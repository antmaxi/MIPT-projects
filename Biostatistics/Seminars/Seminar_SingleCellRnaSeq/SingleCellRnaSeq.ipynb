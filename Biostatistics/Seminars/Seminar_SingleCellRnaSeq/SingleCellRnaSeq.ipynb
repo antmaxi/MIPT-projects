{
 "cells": [
  {
   "cell_type": "markdown",
   "metadata": {},
   "source": [
    "# Single cell rna sequencing : новый этап в исследованиях работы генов?  \n",
    "Этот семинар расскажет, что такое секвенирование РНК, почему секвенирование отдельных клеток это лучше, чем всех сразу вместе, как такие данные обрабатывать и почему это бывает сложно "
   ]
  },
  {
   "cell_type": "markdown",
   "metadata": {},
   "source": [
    "### Немного биологии"
   ]
  },
  {
   "cell_type": "markdown",
   "metadata": {},
   "source": [
    "Начнем с центральной догмы молекулярной биологии. У нас есть ДНК, есть процесс транскрипции, который переводит информацию с ДНК, далее идет процесс трансляции, который переводит РНК в соответствующий белок."
   ]
  },
  {
   "cell_type": "markdown",
   "metadata": {},
   "source": [
    "<img src=\"images/molecular_dogma.jpeg\" title=\"The Central Dogma of Molecular Biology, ib.bioninja.com.au\" alt=\"The Central Dogma of Molecular Biology, ib.bioninja.com.au\" >  "
   ]
  },
  {
   "cell_type": "markdown",
   "metadata": {},
   "source": [
    "*Понятно, что это лишь первое приближение процессов. Мы можем так же говорить про альтернативный сплайсинг, РНК интерференцию, пост-транкприционные модификации, пост-трансляционные модификации и так далее, но тут это не очень важно*"
   ]
  },
  {
   "cell_type": "markdown",
   "metadata": {},
   "source": [
    "За редким исключением основную функцию несут белки - именно они являются теми молекулярными машинами, которые делают всю грязную работу в клетках, но наши технологии не очень рассчитаны на прочтение последовательностей белков (масс спектроскопия), но мы отлично можем читать последовательности РНК\\ДНК. Поэтому мы считаем, что если определенная РНК есть в клетке, то там будет и белок, который будет выполнять какую-то функцию. Это, впрочем, не всегда верно, но что делать. "
   ]
  },
  {
   "cell_type": "markdown",
   "metadata": {},
   "source": [
    "Как следует из имени, РНК секвенирование - это группа методов для количественного анализа количества РНК в образце. Причина, по котороый мы хотим оценить количество РНК, заключается в том, что разные клетки могут экспрессировать разные гены (и даже в разный момент времени), а следовательно, выполнять различные функции. Типичное использование РНК секвенирования заключается в том, чтобы оценить различие экспресси генов в двух группах, например, в клетках, которые были подвержены действию лекарства, и в клетках, которые никто не трогал. Например, у нас есть N образцов в одной группе, N образцов в другой группе и мы хотим понять, какие гены дифференциально экспресируются (=среднее значение экспрессии в группах различно). Другой пример использование, это влияние определенных мутаций на уровень экспресси генов. "
   ]
  },
  {
   "cell_type": "markdown",
   "metadata": {},
   "source": [
    "Однако эти методы имеют свои ограничения, так как мы извлекаем и секвенируем РНК из группы клеток, мы теряем всю информцию о разнице между ними и измеряем средний уровень. В определенных случаях это может быть так же полезно, как средняя температура во всей больнице - да, это число, но что оно значит? "
   ]
  },
  {
   "cell_type": "markdown",
   "metadata": {},
   "source": [
    "<img src=\"images/single_cell.jpeg\" title=\"source hemberg-lab.github.io/scRNA.seq.course\" alt=\"Tsource hemberg-lab.github.io/scRNA.seq.course\" >  \n"
   ]
  },
  {
   "cell_type": "markdown",
   "metadata": {},
   "source": [
    "Что можно сделать? Без подробностей из сферы молекулярной биологии, мы можем постараться сохранить информацию о каждой клетке таким образом, что для каждой молекулы РНК, которую мы отсеквенировали, мы сорхраняли маленькую техническую последовательность, уникальную для каждой клетки (баркод), а если к этому мы дополнительно будем сохранять уникальный идентификатор каждой молекулы РНК, мы сможем получить правильное и полностью количественное представление количества РНК в клетках. Таким образов, типичные данные, которые мы получаем после одного эксперимента, это большая таблица, где строки это клетки, а столбцы - гены, и в ячейке i,j содержится число, которое показывает количество РНК гена j в клетке i"
   ]
  },
  {
   "cell_type": "markdown",
   "metadata": {},
   "source": [
    "### Поговорим в терминах данных"
   ]
  },
  {
   "cell_type": "markdown",
   "metadata": {},
   "source": [
    "Параметры и особенности датасета\n",
    " - ~20,000 - 30,000 признаков \n",
    " - от 5,000 до 2,000,000 семплов\n",
    " - высокая разреженность и скоррелированность данных\n",
    " - Пропущенные данные (дропаут)\n",
    " - Разный масштаб признаков"
   ]
  },
  {
   "cell_type": "markdown",
   "metadata": {},
   "source": [
    "С данными такой высокой размерности почти невозможно работать из-за проклятия размерности. Например, в таком большом пространстве нам понадобится безумное количество клеток, чтобы покрыть все пространство признаков (Даже  если брать бинарную экспрессию). "
   ]
  },
  {
   "cell_type": "markdown",
   "metadata": {},
   "source": [
    "Типичный пайплан представляет из себя следующие шаги\n",
    " - Фильтрация семплов и признаков по установленным порогам\n",
    " - Нахождение вариабильных признаков (а значит, несущих информацию)\n",
    " - Понижение размерности с помощью линейных методов (PCA)\n",
    " - Дальнейший эмбединг в двумерное пространство с помощью tSNE или umap\n",
    " - Кластеризация"
   ]
  },
  {
   "cell_type": "markdown",
   "metadata": {},
   "source": [
    "<img src=\"images/pipeline.jpg\" title=\"Пример пайплайна\" alt=\"Пример пайплайна\" >  "
   ]
  },
  {
   "cell_type": "markdown",
   "metadata": {},
   "source": [
    "Дальше, в зависимости от задачи, можно искать ответы на многие вопросы. Например\n",
    " - Экспрессия каких генов является ключевой для кластеров?\n",
    " - Как связаны кластеры между собой? (Обычно в случае, если мы смотрим на несколько временных точек)\n",
    " - Какие кластеры представлены в одних условиях и отсутствуют в других?\n",
    " - Определение кластеров по маркерам и аннотация."
   ]
  },
  {
   "cell_type": "markdown",
   "metadata": {},
   "source": [
    "Понятно, что паплайнов сделано довольно много, они решают разные задачи, но все же..."
   ]
  },
  {
   "cell_type": "markdown",
   "metadata": {},
   "source": [
    "### Задача на сегодня\n",
    "Задача на сегодня довольно простая - написать минимальный пайлайн для обработки scRNAseq на основе данных https://satijalab.org/seurat/v3.0/pbmc3k_tutorial.html"
   ]
  },
  {
   "cell_type": "markdown",
   "metadata": {},
   "source": [
    "Это данные  - датасет переферических клеток крови (в основном - лимфоциты и моноциты, клетки имунной системы), где каждая строчка  - это отдельный ген, каждый столбец - отдельная клетка. Дополнительно к этому датасету идут два фаила, с названиями генов и индексами клеток. Наша задача сегодня будет понять, из каких кластеров состоят наши данные и сможем ли мы выделить биологически осмысленные группы."
   ]
  },
  {
   "cell_type": "code",
   "execution_count": 1,
   "metadata": {},
   "outputs": [],
   "source": [
    "import os\n",
    "import scipy.io\n",
    "import pandas as pd\n",
    "import numpy as np\n",
    "import matplotlib.pyplot as plt\n",
    "from sklearn.decomposition import PCA\n",
    "from sklearn.preprocessing import scale\n",
    "from sklearn import cluster, datasets, mixture\n",
    "from sklearn.neighbors import kneighbors_graph\n",
    "from scipy.stats import linregress\n",
    "import umap\n",
    "import seaborn as sns\n",
    "from itertools import cycle, islice\n",
    "%matplotlib inline"
   ]
  },
  {
   "cell_type": "code",
   "execution_count": 2,
   "metadata": {},
   "outputs": [],
   "source": [
    "def prepare_dataset():\n",
    "    matrix_dir = \"filtered_gene_bc_matrices/hg19\"\n",
    "    '''\n",
    "    define paths\n",
    "    '''\n",
    "    genes_path = os.path.join(matrix_dir, \"genes.tsv\")\n",
    "    matrix_path = os.path.join(matrix_dir, \"matrix.mtx\")\n",
    "    barcodes_path = os.path.join(matrix_dir, \"barcodes.tsv\")\n",
    "    '''\n",
    "    load matrix, barcodes, annotation for genes\n",
    "    '''\n",
    "    mat = np.array(scipy.io.mmread(matrix_path).todense()) #can we keep sparce? \n",
    "    annotation  = pd.read_csv(genes_path, sep='\\t',header=None)\n",
    "    annotation.columns = ['ensemble_id','gene_symbol']\n",
    "    barcodes = [line.strip() for line in open(barcodes_path, 'r')]\n",
    "    mat = mat.T  #becase we want (samples, features) matrix\n",
    "    print('Matrix dimensionality: {} cells and {} genes'.format(mat.shape[0], mat.shape[1]))   \n",
    "    assert((mat.shape[0]==len(barcodes)) & (mat.shape[1]==annotation.shape[0]))\n",
    "    return mat, np.array(barcodes), annotation"
   ]
  },
  {
   "cell_type": "markdown",
   "metadata": {},
   "source": [
    "Загрузим данные"
   ]
  },
  {
   "cell_type": "code",
   "execution_count": 3,
   "metadata": {},
   "outputs": [
    {
     "name": "stdout",
     "output_type": "stream",
     "text": [
      "Matrix dimensionality: 2700 cells and 32738 genes\n"
     ]
    }
   ],
   "source": [
    "mat, barcodes, annotation = prepare_dataset()"
   ]
  },
  {
   "cell_type": "markdown",
   "metadata": {},
   "source": [
    "Займемся EDA. Постройте два распределения, одно - сумма РНК для клеток, другое - сумма РНК по генам, посторойте оба распределения в логарифмической шкале. Посчитайте серднее, минимальное, максимальное значение, а так же среднееквадратичное отклонение. Что можно сказать о распределениях? "
   ]
  },
  {
   "cell_type": "code",
   "execution_count": 28,
   "metadata": {},
   "outputs": [
    {
     "data": {
      "text/plain": [
       "(array([  6.,   4.,   6.,   5.,   3.,   9.,   9.,   6.,   8.,   8.,  11.,\n",
       "         11.,   9.,  12.,   9.,  11.,  13.,  14.,  17.,  19.,  21.,  18.,\n",
       "         16.,  26.,  17.,  23.,  23.,  26.,  24.,  39.,  54.,  41.,  61.,\n",
       "         47.,  81.,  73.,  88.,  98., 111., 118., 121., 110., 119., 103.,\n",
       "         95., 106.,  90.,  80.,  75.,  69.,  54.,  56.,  57.,  47.,  36.,\n",
       "         28.,  31.,  22.,  21.,  25.,  28.,  13.,  17.,  12.,  11.,  12.,\n",
       "         14.,   8.,   9.,   6.,   3.,   6.,   5.,   1.,   2.,   2.,   2.,\n",
       "          0.,   0.,   2.,   0.,   1.,   1.,   0.,   0.,   0.,   0.,   2.,\n",
       "          1.,   0.,   0.,   0.,   0.,   0.,   0.,   0.,   0.,   0.,   1.,\n",
       "          1.]),\n",
       " array([6.30809844, 6.34172355, 6.37534866, 6.40897377, 6.44259887,\n",
       "        6.47622398, 6.50984909, 6.5434742 , 6.57709931, 6.61072442,\n",
       "        6.64434952, 6.67797463, 6.71159974, 6.74522485, 6.77884996,\n",
       "        6.81247507, 6.84610017, 6.87972528, 6.91335039, 6.9469755 ,\n",
       "        6.98060061, 7.01422572, 7.04785082, 7.08147593, 7.11510104,\n",
       "        7.14872615, 7.18235126, 7.21597637, 7.24960147, 7.28322658,\n",
       "        7.31685169, 7.3504768 , 7.38410191, 7.41772702, 7.45135212,\n",
       "        7.48497723, 7.51860234, 7.55222745, 7.58585256, 7.61947767,\n",
       "        7.65310277, 7.68672788, 7.72035299, 7.7539781 , 7.78760321,\n",
       "        7.82122832, 7.85485342, 7.88847853, 7.92210364, 7.95572875,\n",
       "        7.98935386, 8.02297897, 8.05660407, 8.09022918, 8.12385429,\n",
       "        8.1574794 , 8.19110451, 8.22472961, 8.25835472, 8.29197983,\n",
       "        8.32560494, 8.35923005, 8.39285516, 8.42648026, 8.46010537,\n",
       "        8.49373048, 8.52735559, 8.5609807 , 8.59460581, 8.62823091,\n",
       "        8.66185602, 8.69548113, 8.72910624, 8.76273135, 8.79635646,\n",
       "        8.82998156, 8.86360667, 8.89723178, 8.93085689, 8.964482  ,\n",
       "        8.99810711, 9.03173221, 9.06535732, 9.09898243, 9.13260754,\n",
       "        9.16623265, 9.19985776, 9.23348286, 9.26710797, 9.30073308,\n",
       "        9.33435819, 9.3679833 , 9.40160841, 9.43523351, 9.46885862,\n",
       "        9.50248373, 9.53610884, 9.56973395, 9.60335906, 9.63698416,\n",
       "        9.67060927]),\n",
       " <a list of 100 Patch objects>)"
      ]
     },
     "execution_count": 28,
     "metadata": {},
     "output_type": "execute_result"
    },
    {
     "data": {
      "image/png": "[encoded data removed]",
      "text/plain": [
       "<Figure size 432x288 with 1 Axes>"
      ]
     },
     "metadata": {
      "needs_background": "light"
     },
     "output_type": "display_data"
    }
   ],
   "source": [
    "%matplotlib inline\n",
    "cell = []\n",
    "for i in range(mat.shape[0]):\n",
    "    cell.append(np.sum(mat[i]))\n",
    "               \n",
    "#plt.hist(cell, log=True, bins=100)\n",
    "plt.hist(np.log1p(cell), bins=100)"
   ]
  },
  {
   "cell_type": "code",
   "execution_count": 32,
   "metadata": {},
   "outputs": [
    {
     "data": {
      "text/plain": [
       "(array([1.8972e+04, 2.7170e+03, 2.7400e+03, 3.8330e+03, 2.7970e+03,\n",
       "        1.1890e+03, 2.9700e+02, 1.0700e+02, 7.1000e+01, 1.5000e+01]),\n",
       " array([ 0.        ,  1.19934115,  2.39868229,  3.59802344,  4.79736458,\n",
       "         5.99670573,  7.19604688,  8.39538802,  9.59472917, 10.79407032,\n",
       "        11.99341146]),\n",
       " <a list of 10 Patch objects>)"
      ]
     },
     "execution_count": 32,
     "metadata": {},
     "output_type": "execute_result"
    },
    {
     "data": {
      "image/png": "[encoded data removed]",
      "text/plain": [
       "<Figure size 432x288 with 1 Axes>"
      ]
     },
     "metadata": {
      "needs_background": "light"
     },
     "output_type": "display_data"
    }
   ],
   "source": [
    "rnk = []\n",
    "mat_T = mat.T\n",
    "for i in range(mat.shape[1]):\n",
    "    rnk.append(np.sum(mat_T[i]))\n",
    "\n",
    "#plt.hist(rnk, log=True, bins=100)\n",
    "plt.hist(np.log1p(rnk), bins=10)"
   ]
  },
  {
   "cell_type": "code",
   "execution_count": null,
   "metadata": {},
   "outputs": [],
   "source": [
    "gens = []\n",
    "for i in range(mat.shape[0]):\n",
    "    for j in range(mat.shape[1])\n",
    "    gens.append(np.sum(mat_T[i]))\n",
    "#plt.hist(rnk, log=True, bins=100)\n",
    "plt.hist(np.log1p(rnk), bins=10)"
   ]
  },
  {
   "cell_type": "markdown",
   "metadata": {},
   "source": [
    "Уберем подозрительные клетки, для этого уберите клетки с суммарной экспрессией меньше, чем 250 и больше, чем 5000. Сколько клеток осталось?"
   ]
  },
  {
   "cell_type": "code",
   "execution_count": 4,
   "metadata": {},
   "outputs": [],
   "source": [
    "mask = []\n",
    "per_cell_sum = mat.sum(axis=1)\n",
    "mask = (per_cell_sum >= 250) & (per_cell_sum <= 5000) \n",
    "mat = mat[mask, :]"
   ]
  },
  {
   "cell_type": "code",
   "execution_count": 5,
   "metadata": {},
   "outputs": [],
   "source": [
    "barcodes = barcodes[mask]"
   ]
  },
  {
   "cell_type": "code",
   "execution_count": 8,
   "metadata": {},
   "outputs": [
    {
     "ename": "ValueError",
     "evalue": "Item wrong length 2700 instead of 32738.",
     "output_type": "error",
     "traceback": [
      "\u001b[0;31m---------------------------------------------------------------------------\u001b[0m",
      "\u001b[0;31mValueError\u001b[0m                                Traceback (most recent call last)",
      "\u001b[0;32m<ipython-input-8-30099596cdde>\u001b[0m in \u001b[0;36m<module>\u001b[0;34m\u001b[0m\n\u001b[0;32m----> 1\u001b[0;31m \u001b[0mannnotation\u001b[0m \u001b[0;34m=\u001b[0m \u001b[0mannotation\u001b[0m\u001b[0;34m[\u001b[0m\u001b[0mmask\u001b[0m\u001b[0;34m]\u001b[0m\u001b[0;34m\u001b[0m\u001b[0;34m\u001b[0m\u001b[0m\n\u001b[0m",
      "\u001b[0;32m/media/anton/b8150e49-6ff0-467b-ad66-40347e8bb188/anton/anaconda3/lib/python3.7/site-packages/pandas/core/frame.py\u001b[0m in \u001b[0;36m__getitem__\u001b[0;34m(self, key)\u001b[0m\n\u001b[1;32m   2916\u001b[0m         \u001b[0;31m# Do we have a (boolean) 1d indexer?\u001b[0m\u001b[0;34m\u001b[0m\u001b[0;34m\u001b[0m\u001b[0;34m\u001b[0m\u001b[0m\n\u001b[1;32m   2917\u001b[0m         \u001b[0;32mif\u001b[0m \u001b[0mcom\u001b[0m\u001b[0;34m.\u001b[0m\u001b[0mis_bool_indexer\u001b[0m\u001b[0;34m(\u001b[0m\u001b[0mkey\u001b[0m\u001b[0;34m)\u001b[0m\u001b[0;34m:\u001b[0m\u001b[0;34m\u001b[0m\u001b[0;34m\u001b[0m\u001b[0m\n\u001b[0;32m-> 2918\u001b[0;31m             \u001b[0;32mreturn\u001b[0m \u001b[0mself\u001b[0m\u001b[0;34m.\u001b[0m\u001b[0m_getitem_bool_array\u001b[0m\u001b[0;34m(\u001b[0m\u001b[0mkey\u001b[0m\u001b[0;34m)\u001b[0m\u001b[0;34m\u001b[0m\u001b[0;34m\u001b[0m\u001b[0m\n\u001b[0m\u001b[1;32m   2919\u001b[0m \u001b[0;34m\u001b[0m\u001b[0m\n\u001b[1;32m   2920\u001b[0m         \u001b[0;31m# We are left with two options: a single key, and a collection of keys,\u001b[0m\u001b[0;34m\u001b[0m\u001b[0;34m\u001b[0m\u001b[0;34m\u001b[0m\u001b[0m\n",
      "\u001b[0;32m/media/anton/b8150e49-6ff0-467b-ad66-40347e8bb188/anton/anaconda3/lib/python3.7/site-packages/pandas/core/frame.py\u001b[0m in \u001b[0;36m_getitem_bool_array\u001b[0;34m(self, key)\u001b[0m\n\u001b[1;32m   2961\u001b[0m         \u001b[0;32melif\u001b[0m \u001b[0mlen\u001b[0m\u001b[0;34m(\u001b[0m\u001b[0mkey\u001b[0m\u001b[0;34m)\u001b[0m \u001b[0;34m!=\u001b[0m \u001b[0mlen\u001b[0m\u001b[0;34m(\u001b[0m\u001b[0mself\u001b[0m\u001b[0;34m.\u001b[0m\u001b[0mindex\u001b[0m\u001b[0;34m)\u001b[0m\u001b[0;34m:\u001b[0m\u001b[0;34m\u001b[0m\u001b[0;34m\u001b[0m\u001b[0m\n\u001b[1;32m   2962\u001b[0m             raise ValueError('Item wrong length %d instead of %d.' %\n\u001b[0;32m-> 2963\u001b[0;31m                              (len(key), len(self.index)))\n\u001b[0m\u001b[1;32m   2964\u001b[0m \u001b[0;34m\u001b[0m\u001b[0m\n\u001b[1;32m   2965\u001b[0m         \u001b[0;31m# check_bool_indexer will throw exception if Series key cannot\u001b[0m\u001b[0;34m\u001b[0m\u001b[0;34m\u001b[0m\u001b[0;34m\u001b[0m\u001b[0m\n",
      "\u001b[0;31mValueError\u001b[0m: Item wrong length 2700 instead of 32738."
     ]
    }
   ],
   "source": [
    "annnotation = annotation[mask]"
   ]
  },
  {
   "cell_type": "markdown",
   "metadata": {},
   "source": [
    "Наш следующий этап - нормализация данных. Для этого поделите значения экспрессии каждой клетки на сумму экспрессий, умножьте на константу (10000) и возьмте логарифм. Сохраните новую матрицу в отдельной переменной. \n",
    "Магическое число 10000 тут больше для вычислительной стабильности, оно не несет какого то смысла. Формально это означает, что мы стандартизировали экспрессию кждой клетки - теперь все клетки экспрессируют 10000 РНК."
   ]
  },
  {
   "cell_type": "code",
   "execution_count": 6,
   "metadata": {},
   "outputs": [],
   "source": [
    "per_cell_sum = mat.sum(axis=1)\n",
    "mat_norm = np.log(10000*mat/per_cell_sum[:, None] + 1e-10)"
   ]
  },
  {
   "cell_type": "markdown",
   "metadata": {},
   "source": [
    "Работать с таким количество признаков *достаточно* тяжело, поэтому поймем, какие гены нужно взять. Для этого сделаем довольно хитрую процедуру, используемую в одном известном пакете для анализа такого рода данных.  \n",
    "1. Для этого посчитайте стандартное отклонение и среднее по \"сырым\" данным, отбросьте гены, где они равны нулю.  \n",
    "2. Далее постройте линейную модель, где зависимая переменная  - стандартное отклонение гена, а предиктор - среднее значение экспрессии, постройте график с ними и регресионной прямой. Посчитайте \"предсказанное отклонение\" для каждого гена.  \n",
    "3. Следующий этап - нормализация данных. Для этого из матрицы с сырыми данными вычтите среднее для каждого гена, поделите на std, но не посчитанное по данным, а на предсказанное моделью. Вы получите нормализованную версию таблицы. Если бы мы делили на посчитанное std, то в этой нормализованной версии таблицы std каждого гена было бы равно 1. Тут же это не так.   \n",
    "4. Посчитайте std каждого гена в нормализованной версии, постройте график, где Х это логарифм средней экспрессии, У - посчитанное отклонение.   \n",
    "5. Отсортируйте гены по этом отклонению, выберите первые 2000. Что можно сказать про их изначальное std и предсказанное моделью?   \n",
    "\n",
    "Что мы хотим тут найти, так это гены, которые значильно более вариабельны, чем можно было ожидать по их средней экспрессии. Мы ожидаем, что именно такие гены будут нести информацию. Ведь если задуматься, нам не нужны гены, которые экспрессируются на одном уровне по всех клетках - они не помогут нам разделить кластеры.   \n",
    "\n",
    "Дла этого задания вам возможно понадобится функции linregress, plt.scatter, DataFrame.sort_values и np.where"
   ]
  },
  {
   "cell_type": "code",
   "execution_count": 41,
   "metadata": {},
   "outputs": [
    {
     "name": "stdout",
     "output_type": "stream",
     "text": [
      "(2631, 0)\n",
      "[False False False ... False False False]\n",
      "[[0. 0. 0. ... 0. 0. 0.]\n",
      " [0. 0. 0. ... 0. 0. 0.]\n",
      " [0. 0. 0. ... 0. 0. 0.]\n",
      " ...\n",
      " [0. 0. 0. ... 0. 0. 0.]\n",
      " [0. 0. 0. ... 0. 0. 0.]\n",
      " [0. 0. 0. ... 0. 0. 0.]]\n"
     ]
    }
   ],
   "source": [
    "per_gene_mean = mat.mean(axis=0)\n",
    "per_gene_std = mat.std(axis=0)\n",
    "mask = (per_gene_mean != 0) & (per_gene_std != 0)\n",
    "mat1 = mat[:, mask]\n",
    "print(mat1.shape)\n",
    "print(mask)\n",
    "#barcodes = barcodes[mask]\n",
    "print(mat)"
   ]
  },
  {
   "cell_type": "code",
   "execution_count": 39,
   "metadata": {},
   "outputs": [
    {
     "name": "stdout",
     "output_type": "stream",
     "text": [
      "(2631, 16283)\n",
      "(16283,)\n"
     ]
    }
   ],
   "source": [
    "print(mat.shape)\n",
    "print(per_gene_std.shape)"
   ]
  },
  {
   "cell_type": "code",
   "execution_count": 34,
   "metadata": {},
   "outputs": [
    {
     "ename": "ValueError",
     "evalue": "Inputs must not be empty.",
     "output_type": "error",
     "traceback": [
      "\u001b[0;31m---------------------------------------------------------------------------\u001b[0m",
      "\u001b[0;31mValueError\u001b[0m                                Traceback (most recent call last)",
      "\u001b[0;32m<ipython-input-34-8e840d4bbb3b>\u001b[0m in \u001b[0;36m<module>\u001b[0;34m\u001b[0m\n\u001b[1;32m      3\u001b[0m \u001b[0mx\u001b[0m \u001b[0;34m=\u001b[0m \u001b[0mnp\u001b[0m\u001b[0;34m.\u001b[0m\u001b[0mlog\u001b[0m\u001b[0;34m(\u001b[0m\u001b[0mper_gene_mean\u001b[0m\u001b[0;34m)\u001b[0m\u001b[0;34m\u001b[0m\u001b[0;34m\u001b[0m\u001b[0m\n\u001b[1;32m      4\u001b[0m \u001b[0my\u001b[0m \u001b[0;34m=\u001b[0m \u001b[0mnp\u001b[0m\u001b[0;34m.\u001b[0m\u001b[0mlog\u001b[0m\u001b[0;34m(\u001b[0m\u001b[0mper_gene_std\u001b[0m\u001b[0;34m)\u001b[0m\u001b[0;34m\u001b[0m\u001b[0;34m\u001b[0m\u001b[0m\n\u001b[0;32m----> 5\u001b[0;31m \u001b[0mslope\u001b[0m\u001b[0;34m,\u001b[0m \u001b[0mintercept\u001b[0m\u001b[0;34m,\u001b[0m \u001b[0mr_value\u001b[0m\u001b[0;34m,\u001b[0m \u001b[0mp_value\u001b[0m\u001b[0;34m,\u001b[0m \u001b[0mstd_err\u001b[0m \u001b[0;34m=\u001b[0m \u001b[0mlinregress\u001b[0m\u001b[0;34m(\u001b[0m\u001b[0mx\u001b[0m\u001b[0;34m,\u001b[0m \u001b[0my\u001b[0m\u001b[0;34m)\u001b[0m\u001b[0;34m\u001b[0m\u001b[0;34m\u001b[0m\u001b[0m\n\u001b[0m\u001b[1;32m      6\u001b[0m \u001b[0mplt\u001b[0m\u001b[0;34m.\u001b[0m\u001b[0mplot\u001b[0m\u001b[0;34m(\u001b[0m\u001b[0mx\u001b[0m\u001b[0;34m,\u001b[0m \u001b[0my\u001b[0m\u001b[0;34m,\u001b[0m \u001b[0;34m'o'\u001b[0m\u001b[0;34m,\u001b[0m \u001b[0mlabel\u001b[0m\u001b[0;34m=\u001b[0m\u001b[0;34m'original data'\u001b[0m\u001b[0;34m)\u001b[0m\u001b[0;34m\u001b[0m\u001b[0;34m\u001b[0m\u001b[0m\n\u001b[1;32m      7\u001b[0m \u001b[0mplt\u001b[0m\u001b[0;34m.\u001b[0m\u001b[0mplot\u001b[0m\u001b[0;34m(\u001b[0m\u001b[0mx\u001b[0m\u001b[0;34m,\u001b[0m \u001b[0mintercept\u001b[0m \u001b[0;34m+\u001b[0m \u001b[0mslope\u001b[0m\u001b[0;34m*\u001b[0m\u001b[0mx\u001b[0m\u001b[0;34m,\u001b[0m \u001b[0;34m'r'\u001b[0m\u001b[0;34m,\u001b[0m \u001b[0mlabel\u001b[0m\u001b[0;34m=\u001b[0m\u001b[0;34m'fitted line'\u001b[0m\u001b[0;34m)\u001b[0m\u001b[0;34m\u001b[0m\u001b[0;34m\u001b[0m\u001b[0m\n",
      "\u001b[0;32m/media/anton/b8150e49-6ff0-467b-ad66-40347e8bb188/anton/anaconda3/lib/python3.7/site-packages/scipy/stats/_stats_mstats_common.py\u001b[0m in \u001b[0;36mlinregress\u001b[0;34m(x, y)\u001b[0m\n\u001b[1;32m     93\u001b[0m \u001b[0;34m\u001b[0m\u001b[0m\n\u001b[1;32m     94\u001b[0m     \u001b[0;32mif\u001b[0m \u001b[0mx\u001b[0m\u001b[0;34m.\u001b[0m\u001b[0msize\u001b[0m \u001b[0;34m==\u001b[0m \u001b[0;36m0\u001b[0m \u001b[0;32mor\u001b[0m \u001b[0my\u001b[0m\u001b[0;34m.\u001b[0m\u001b[0msize\u001b[0m \u001b[0;34m==\u001b[0m \u001b[0;36m0\u001b[0m\u001b[0;34m:\u001b[0m\u001b[0;34m\u001b[0m\u001b[0;34m\u001b[0m\u001b[0m\n\u001b[0;32m---> 95\u001b[0;31m         \u001b[0;32mraise\u001b[0m \u001b[0mValueError\u001b[0m\u001b[0;34m(\u001b[0m\u001b[0;34m\"Inputs must not be empty.\"\u001b[0m\u001b[0;34m)\u001b[0m\u001b[0;34m\u001b[0m\u001b[0;34m\u001b[0m\u001b[0m\n\u001b[0m\u001b[1;32m     96\u001b[0m \u001b[0;34m\u001b[0m\u001b[0m\n\u001b[1;32m     97\u001b[0m     \u001b[0mn\u001b[0m \u001b[0;34m=\u001b[0m \u001b[0mlen\u001b[0m\u001b[0;34m(\u001b[0m\u001b[0mx\u001b[0m\u001b[0;34m)\u001b[0m\u001b[0;34m\u001b[0m\u001b[0;34m\u001b[0m\u001b[0m\n",
      "\u001b[0;31mValueError\u001b[0m: Inputs must not be empty."
     ]
    }
   ],
   "source": [
    "per_gene_mean = mat1.mean(axis=0)\n",
    "per_gene_std = mat1.std(axis=0)\n",
    "x = np.log(per_gene_mean)\n",
    "y = np.log(per_gene_std)\n",
    "slope, intercept, r_value, p_value, std_err = linregress(x, y)\n",
    "plt.plot(x, y, 'o', label='original data')\n",
    "plt.plot(x, intercept + slope*x, 'r', label='fitted line')\n",
    "plt.legend()\n",
    "plt.show()"
   ]
  },
  {
   "cell_type": "markdown",
   "metadata": {},
   "source": [
    "Теперь, когда мы нашли гены, которые потенциально несут много информации, нужно отмасштабировать данные, тут все просто, стандартное z-score transformation. Важный момент, масштабируем мы нормализованную версию (где умножали на 10000 и логарифмировали). "
   ]
  },
  {
   "cell_type": "code",
   "execution_count": 249,
   "metadata": {},
   "outputs": [],
   "source": [
    "#solution\n",
    "#mat_norm_scled = scale(mat_norm)"
   ]
  },
  {
   "cell_type": "markdown",
   "metadata": {},
   "source": [
    "Следующий этап - понижение размерности с помощью PCA. А как можно выбрать оптимальное количество компонент?  \n",
    "Для этого сделаем следующие шаги.  \n",
    "1. Воспользуйтесь функцией PCA из scikit-learn, у нее есть методы fit и transform. Обучите на шкалированных данных и трансформируйте их же.   \n",
    "2. Постройте пропорцию объясненной варации (explained_varuance_ratio_) и посмотрите, выходит ли она на плато - это и можно использовать как отсечку для числа \"нужных\" компонент"
   ]
  },
  {
   "cell_type": "markdown",
   "metadata": {},
   "source": [
    "Несмотря на то, что мы отобрали крайне вариабельные гены, они вполне могут быть скоррелированны, поэтому мы хотим найти новые \"координаты\", которых меньше, но которые почти так же хорошо описывают наши данные. "
   ]
  },
  {
   "cell_type": "code",
   "execution_count": null,
   "metadata": {},
   "outputs": [],
   "source": [
    "# your code here"
   ]
  },
  {
   "cell_type": "markdown",
   "metadata": {},
   "source": [
    "Интересный этап - ембеддинг в двумерное пространство. Для этого воспользуемся UMAP с параметрами n_neighbors=25, min_dist=0.5, learning_rate=0.5, metric='euclidean' и его методом fit_transform. Отобразите данные, полученные после PCA, в двумерное пространство и нанесите на график проекции клеток с помощью plt.scatter."
   ]
  },
  {
   "cell_type": "code",
   "execution_count": null,
   "metadata": {},
   "outputs": [],
   "source": [
    "# your code here"
   ]
  },
  {
   "cell_type": "markdown",
   "metadata": {},
   "source": [
    "Займемся кластеризацией клеток. Кластеризовать будем в выбранном пространстве после pca, наносить на двумерное пространство после umap. Чтобы попробовать различные кластеризации, воспользуемся [примером](https://scikit-learn.org/stable/auto_examples/cluster/plot_cluster_comparison.html) scikit-learn и прогоним все возможные алгоритмы.\n",
    "Так как у нас никакой информации, как должны выглядеть кластеры, то попробуем разные методы и посмотрим, как выглядит кластеризация. Сохраните предсказанные лейблы от каждого метода кластеризации. "
   ]
  },
  {
   "cell_type": "code",
   "execution_count": null,
   "metadata": {},
   "outputs": [],
   "source": [
    "# your code here"
   ]
  },
  {
   "cell_type": "markdown",
   "metadata": {},
   "source": [
    "Сложно говорить о кластеризации, потому что правильного ответа, какие кластеры есть в данных, зачастую нет. Но тут мы можем воспользоваться знаниями из биологии - мы знаем маркеры для биологических кластеров, то есть для клеток, которые физически и биологически выполняют разные функции. Для этого давайте визуализируем некоторые из маркеров на 2D графике. Для этого ниже указаны гены, которы нужно вызуализировать. Для этого используйте plt.scatter, где в качестве параметра c предайте нужный столбец из нормализованных данных. "
   ]
  },
  {
   "cell_type": "code",
   "execution_count": 325,
   "metadata": {},
   "outputs": [],
   "source": [
    "features = [\"MS4A1\", \"GNLY\", \"CD3E\", \"CD14\", \"FCER1A\", \"FCGR3A\", \"LYZ\", \"PPBP\", \"CD8A\"]\n",
    "feature_idx = [np.where(annotation.gene_symbol==feature)[0][0] for feature in features]"
   ]
  },
  {
   "cell_type": "code",
   "execution_count": null,
   "metadata": {},
   "outputs": [],
   "source": [
    "# your code here"
   ]
  },
  {
   "cell_type": "markdown",
   "metadata": {},
   "source": [
    "Сравните результаты с аналогичным [анализом](https://satijalab.org/seurat/v3.0/pbmc3k_tutorial.html), сделанным с помощью одного из самых популярных пакетов. Насколько общая картина кластеризации и распределении экспресии генов похожа? Для данного датасета известны канонические маркеры биологических типов клеток. Для выбранного метода кластеризации постройте boxplots этих генов и проверьте, имеют ли биологический смысл кластеры, которые мы получили. Например, если будет только один кластер, который экспрессирует MS4A1, это значит, что мы корректно выделили B cells, если будет только один кластер, который экспрессирует CD8A, это значит, что мы корректно выделили CD8+ T.\n",
    "Для этого постройте для каждого кластера boxplot с его соответствующими генами. Вам понадобится функция sns.bolxplot с hue = gene"
   ]
  },
  {
   "cell_type": "code",
   "execution_count": 365,
   "metadata": {},
   "outputs": [],
   "source": [
    "cluster_assignment = dict({'Memory CD4+':['IL7R', 'CCR7'],\n",
    "                          'Naive CD4+ T' : ['IL7R', 'S100A4'],\n",
    "                          'CD14+ Mono':['LYZ','CD14'],\n",
    "                          'B':['MS4A1'],\n",
    "                          'CD8+ T':['CD8A'],\n",
    "                          'FCGR3A+ Mono':['FCGR3A','MS4A7'],\n",
    "                          'NK':['GNLY','NKG7'],\n",
    "                          'DC':['FCER1A','CST3'],\n",
    "                          'Mk':['PPBP']})"
   ]
  },
  {
   "cell_type": "code",
   "execution_count": null,
   "metadata": {},
   "outputs": [],
   "source": [
    "# your code here"
   ]
  },
  {
   "cell_type": "markdown",
   "metadata": {},
   "source": [
    "Дополнительное задание для тех, кому интересно - попробуйте найти гены, которые экспрессируются дифференциально между кластерами. "
   ]
  }
 ],
 "metadata": {
  "kernelspec": {
   "display_name": "Python 3",
   "language": "python",
   "name": "python3"
  },
  "language_info": {
   "codemirror_mode": {
    "name": "ipython",
    "version": 3
   },
   "file_extension": ".py",
   "mimetype": "text/x-python",
   "name": "python",
   "nbconvert_exporter": "python",
   "pygments_lexer": "ipython3",
   "version": "3.7.3"
  }
 },
 "nbformat": 4,
 "nbformat_minor": 2
}
