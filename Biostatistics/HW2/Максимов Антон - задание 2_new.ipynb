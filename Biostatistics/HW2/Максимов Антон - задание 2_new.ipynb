{
 "cells": [
  {
   "cell_type": "markdown",
   "metadata": {},
   "source": [
    "# Статистические методы в биоинформатике\n",
    "## Домашнее задание 2\n",
    "\n",
    "**Правила:**\n",
    "\n",
    "* Дедлайн **10 мая 23:59**.\n",
    "* Выполненную работу нужно отправить на почту ` mipt.stats@yandex.ru`, указав тему письма `\"[smb] Фамилия Имя - задание 2\"`. Квадратные скобки обязательны. Если письмо дошло, придет ответ от автоответчика.\n",
    "* Прислать нужно ноутбук и его pdf-версию (без архивов).\n",
    "* Для выполнения задания используйте этот ноутбук в качествие основы, ничего не удаляя из него.\n",
    "* Никакой код из данного задания при проверке запускаться не будет.\n",
    "* За задание можно получить **40 баллов**."
   ]
  },
  {
   "cell_type": "code",
   "execution_count": 1,
   "metadata": {},
   "outputs": [],
   "source": [
    "                                                                                                                                                                                                                                import pandas as pd\n",
    "import numpy as np\n",
    "import scipy as scp\n",
    "import matplotlib.pyplot as plt\n",
    "import seaborn as sns\n",
    "import warnings\n",
    "warnings.filterwarnings(\"ignore\")\n",
    "%matplotlib inline"
   ]
  },
  {
   "cell_type": "markdown",
   "metadata": {},
   "source": [
    "## Датасет\n",
    "Для анализа будет использоваться датасет экспресии генов в нормальных тканях и в карционмах, полученные c помощью нуклеотидных микрочипов. Данные опубликованы в работе Notterman, et al, Cancer Research vol. 61: 2001\n",
    "Всего доступна информация о 18 опухолевых образцах и о соответсвующих им здоровых тканях.\n"
   ]
  },
  {
   "cell_type": "markdown",
   "metadata": {},
   "source": [
    "### Шаг 1. Загрузка и подготовка датасета\n",
    "Загрузим данные"
   ]
  },
  {
   "cell_type": "code",
   "execution_count": 2,
   "metadata": {},
   "outputs": [
    {
     "name": "stdout",
     "output_type": "stream",
     "text": [
      "--2019-05-11 19:09:18--  http://genomics-pubs.princeton.edu/oncology/Data/CarcinomaNormalDatasetCancerResearchText.zip\n",
      "Resolving genomics-pubs.princeton.edu (genomics-pubs.princeton.edu)... 128.112.116.251\n",
      "Connecting to genomics-pubs.princeton.edu (genomics-pubs.princeton.edu)|128.112.116.251|:80... connected.\n",
      "HTTP request sent, awaiting response... 200 OK\n",
      "Length: 549752 (537K) [application/zip]\n",
      "Saving to: ‘CarcinomaNormalDatasetCancerResearchText.zip.1’\n",
      "\n",
      "CarcinomaNormalData 100%[===================>] 536,87K   825KB/s    in 0,7s    \n",
      "\n",
      "2019-05-11 19:09:19 (825 KB/s) - ‘CarcinomaNormalDatasetCancerResearchText.zip.1’ saved [549752/549752]\n",
      "\n",
      "Archive:  CarcinomaNormalDatasetCancerResearchText.zip\n",
      "replace CarcinomaNormalDatasetCancerResearch.txt? [y]es, [n]o, [A]ll, [N]one, [r]ename: ^C\n"
     ]
    }
   ],
   "source": [
    "! wget http://genomics-pubs.princeton.edu/oncology/Data/CarcinomaNormalDatasetCancerResearchText.zip\n",
    "! unzip CarcinomaNormalDatasetCancerResearchText.zip"
   ]
  },
  {
   "cell_type": "code",
   "execution_count": 2,
   "metadata": {},
   "outputs": [],
   "source": [
    "data=pd.read_table(\"CarcinomaNormalDatasetCancerResearch.txt\", skiprows=range(1,8), index_col=0)"
   ]
  },
  {
   "cell_type": "markdown",
   "metadata": {},
   "source": [
    "Взглянем на данные:"
   ]
  },
  {
   "cell_type": "code",
   "execution_count": 3,
   "metadata": {},
   "outputs": [
    {
     "data": {
      "text/html": [
       "<div>\n",
       "<style scoped>\n",
       "    .dataframe tbody tr th:only-of-type {\n",
       "        vertical-align: middle;\n",
       "    }\n",
       "\n",
       "    .dataframe tbody tr th {\n",
       "        vertical-align: top;\n",
       "    }\n",
       "\n",
       "    .dataframe thead th {\n",
       "        text-align: right;\n",
       "    }\n",
       "</style>\n",
       "<table border=\"1\" class=\"dataframe\">\n",
       "  <thead>\n",
       "    <tr style=\"text-align: right;\">\n",
       "      <th></th>\n",
       "      <th>Description</th>\n",
       "      <th>Sample</th>\n",
       "      <th>Tumor 27</th>\n",
       "      <th>Tumor 29</th>\n",
       "      <th>Tumor 34</th>\n",
       "      <th>Tumor 28</th>\n",
       "      <th>Tumor 35</th>\n",
       "      <th>Tumor 8</th>\n",
       "      <th>Tumor 3</th>\n",
       "      <th>Tumor 9</th>\n",
       "      <th>...</th>\n",
       "      <th>Normal 5</th>\n",
       "      <th>Normal 11</th>\n",
       "      <th>Normal 6</th>\n",
       "      <th>Normal 12</th>\n",
       "      <th>Normal 40</th>\n",
       "      <th>T-Test tumor vs. normal</th>\n",
       "      <th>Unnamed: 40</th>\n",
       "      <th>Unnamed: 41</th>\n",
       "      <th>Unnamed: 42</th>\n",
       "      <th>Unnamed: 43</th>\n",
       "    </tr>\n",
       "    <tr>\n",
       "      <th>Accession Number</th>\n",
       "      <th></th>\n",
       "      <th></th>\n",
       "      <th></th>\n",
       "      <th></th>\n",
       "      <th></th>\n",
       "      <th></th>\n",
       "      <th></th>\n",
       "      <th></th>\n",
       "      <th></th>\n",
       "      <th></th>\n",
       "      <th></th>\n",
       "      <th></th>\n",
       "      <th></th>\n",
       "      <th></th>\n",
       "      <th></th>\n",
       "      <th></th>\n",
       "      <th></th>\n",
       "      <th></th>\n",
       "      <th></th>\n",
       "      <th></th>\n",
       "      <th></th>\n",
       "    </tr>\n",
       "  </thead>\n",
       "  <tbody>\n",
       "    <tr>\n",
       "      <th>X53416</th>\n",
       "      <td>Human mRNA for actin-binding protein (filamin)...</td>\n",
       "      <td>NaN</td>\n",
       "      <td>70.0</td>\n",
       "      <td>108.0</td>\n",
       "      <td>75.0</td>\n",
       "      <td>871.0</td>\n",
       "      <td>-92.0</td>\n",
       "      <td>21.0</td>\n",
       "      <td>225.0</td>\n",
       "      <td>-346.0</td>\n",
       "      <td>...</td>\n",
       "      <td>488.0</td>\n",
       "      <td>164.0</td>\n",
       "      <td>1282.0</td>\n",
       "      <td>68.0</td>\n",
       "      <td>928.0</td>\n",
       "      <td>0.0000</td>\n",
       "      <td>NaN</td>\n",
       "      <td>NaN</td>\n",
       "      <td>NaN</td>\n",
       "      <td>NaN</td>\n",
       "    </tr>\n",
       "    <tr>\n",
       "      <th>M83670</th>\n",
       "      <td>\"Human carbonic anhydrase IV mRNA, complete cds\"</td>\n",
       "      <td>NaN</td>\n",
       "      <td>-81.0</td>\n",
       "      <td>-30.0</td>\n",
       "      <td>-1.0</td>\n",
       "      <td>4.0</td>\n",
       "      <td>-34.0</td>\n",
       "      <td>-13.0</td>\n",
       "      <td>118.0</td>\n",
       "      <td>-35.0</td>\n",
       "      <td>...</td>\n",
       "      <td>564.0</td>\n",
       "      <td>330.0</td>\n",
       "      <td>116.0</td>\n",
       "      <td>718.0</td>\n",
       "      <td>332.0</td>\n",
       "      <td>0.0000</td>\n",
       "      <td>NaN</td>\n",
       "      <td>NaN</td>\n",
       "      <td>NaN</td>\n",
       "      <td>NaN</td>\n",
       "    </tr>\n",
       "    <tr>\n",
       "      <th>X90908</th>\n",
       "      <td>H.sapiens mRNA for I-15P (I-BABP) protein</td>\n",
       "      <td>NaN</td>\n",
       "      <td>25.0</td>\n",
       "      <td>-7.0</td>\n",
       "      <td>5.0</td>\n",
       "      <td>14.0</td>\n",
       "      <td>14.0</td>\n",
       "      <td>5.0</td>\n",
       "      <td>-5.0</td>\n",
       "      <td>37.0</td>\n",
       "      <td>...</td>\n",
       "      <td>-29.0</td>\n",
       "      <td>-13.0</td>\n",
       "      <td>-4.0</td>\n",
       "      <td>-50.0</td>\n",
       "      <td>4.0</td>\n",
       "      <td>0.3694</td>\n",
       "      <td>NaN</td>\n",
       "      <td>NaN</td>\n",
       "      <td>NaN</td>\n",
       "      <td>NaN</td>\n",
       "    </tr>\n",
       "    <tr>\n",
       "      <th>M97496</th>\n",
       "      <td>\"Homo sapiens guanylin mRNA, complete cds\"</td>\n",
       "      <td>NaN</td>\n",
       "      <td>10.0</td>\n",
       "      <td>60.0</td>\n",
       "      <td>48.0</td>\n",
       "      <td>78.0</td>\n",
       "      <td>19.0</td>\n",
       "      <td>11.0</td>\n",
       "      <td>175.0</td>\n",
       "      <td>42.0</td>\n",
       "      <td>...</td>\n",
       "      <td>1303.0</td>\n",
       "      <td>721.0</td>\n",
       "      <td>542.0</td>\n",
       "      <td>1816.0</td>\n",
       "      <td>412.0</td>\n",
       "      <td>0.0000</td>\n",
       "      <td>NaN</td>\n",
       "      <td>NaN</td>\n",
       "      <td>NaN</td>\n",
       "      <td>NaN</td>\n",
       "    </tr>\n",
       "    <tr>\n",
       "      <th>X90908</th>\n",
       "      <td>H.sapiens mRNA for I-15P (I-BABP) protein</td>\n",
       "      <td>NaN</td>\n",
       "      <td>22.0</td>\n",
       "      <td>0.0</td>\n",
       "      <td>6.0</td>\n",
       "      <td>-6.0</td>\n",
       "      <td>11.0</td>\n",
       "      <td>-18.0</td>\n",
       "      <td>-40.0</td>\n",
       "      <td>39.0</td>\n",
       "      <td>...</td>\n",
       "      <td>-9.0</td>\n",
       "      <td>12.0</td>\n",
       "      <td>0.0</td>\n",
       "      <td>-28.0</td>\n",
       "      <td>0.0</td>\n",
       "      <td>0.3492</td>\n",
       "      <td>NaN</td>\n",
       "      <td>NaN</td>\n",
       "      <td>NaN</td>\n",
       "      <td>NaN</td>\n",
       "    </tr>\n",
       "  </tbody>\n",
       "</table>\n",
       "<p>5 rows × 43 columns</p>\n",
       "</div>"
      ],
      "text/plain": [
       "                                                        Description  Sample  \\\n",
       "Accession Number                                                              \n",
       "X53416            Human mRNA for actin-binding protein (filamin)...     NaN   \n",
       "M83670             \"Human carbonic anhydrase IV mRNA, complete cds\"     NaN   \n",
       "X90908                    H.sapiens mRNA for I-15P (I-BABP) protein     NaN   \n",
       "M97496                   \"Homo sapiens guanylin mRNA, complete cds\"     NaN   \n",
       "X90908                    H.sapiens mRNA for I-15P (I-BABP) protein     NaN   \n",
       "\n",
       "                  Tumor 27  Tumor 29  Tumor 34  Tumor 28  Tumor 35  Tumor 8  \\\n",
       "Accession Number                                                              \n",
       "X53416                70.0     108.0      75.0     871.0     -92.0     21.0   \n",
       "M83670               -81.0     -30.0      -1.0       4.0     -34.0    -13.0   \n",
       "X90908                25.0      -7.0       5.0      14.0      14.0      5.0   \n",
       "M97496                10.0      60.0      48.0      78.0      19.0     11.0   \n",
       "X90908                22.0       0.0       6.0      -6.0      11.0    -18.0   \n",
       "\n",
       "                  Tumor 3  Tumor 9  ...  Normal 5  Normal 11  Normal 6  \\\n",
       "Accession Number                    ...                                  \n",
       "X53416              225.0   -346.0  ...     488.0      164.0    1282.0   \n",
       "M83670              118.0    -35.0  ...     564.0      330.0     116.0   \n",
       "X90908               -5.0     37.0  ...     -29.0      -13.0      -4.0   \n",
       "M97496              175.0     42.0  ...    1303.0      721.0     542.0   \n",
       "X90908              -40.0     39.0  ...      -9.0       12.0       0.0   \n",
       "\n",
       "                  Normal 12  Normal 40  T-Test tumor vs. normal  Unnamed: 40  \\\n",
       "Accession Number                                                               \n",
       "X53416                 68.0      928.0                   0.0000          NaN   \n",
       "M83670                718.0      332.0                   0.0000          NaN   \n",
       "X90908                -50.0        4.0                   0.3694          NaN   \n",
       "M97496               1816.0      412.0                   0.0000          NaN   \n",
       "X90908                -28.0        0.0                   0.3492          NaN   \n",
       "\n",
       "                  Unnamed: 41  Unnamed: 42  Unnamed: 43  \n",
       "Accession Number                                         \n",
       "X53416                    NaN          NaN          NaN  \n",
       "M83670                    NaN          NaN          NaN  \n",
       "X90908                    NaN          NaN          NaN  \n",
       "M97496                    NaN          NaN          NaN  \n",
       "X90908                    NaN          NaN          NaN  \n",
       "\n",
       "[5 rows x 43 columns]"
      ]
     },
     "execution_count": 3,
     "metadata": {},
     "output_type": "execute_result"
    }
   ],
   "source": [
    "data.head()"
   ]
  },
  {
   "cell_type": "markdown",
   "metadata": {},
   "source": [
    "Каждый ряд соответствует какому-то из интересующих нас генов, а колонка (не считая тех, которые содержат описание гена, его номер и значение T-test`а между экспрессией в опухолевых и нормальных образцах) - данные об экспресии каждого гена в опухолевых (Tumor) и контролей (Normal) "
   ]
  },
  {
   "cell_type": "markdown",
   "metadata": {},
   "source": [
    "Видно, что из-за формата скачанного датасета в конце таблицы получилось несколько пустых колонок. Избавимся от них"
   ]
  },
  {
   "cell_type": "code",
   "execution_count": 3,
   "metadata": {},
   "outputs": [],
   "source": [
    "# удаляем все ненужные стоблцы\n",
    "data = data.drop(data.columns[-4:-1], axis=1)\n",
    "data = data.drop(['Sample'], axis=1)\n",
    "data = data.drop(data.columns[-1], axis=1)\n",
    "data.dropna(inplace=True)"
   ]
  },
  {
   "cell_type": "code",
   "execution_count": 5,
   "metadata": {},
   "outputs": [
    {
     "data": {
      "text/html": [
       "<div>\n",
       "<style scoped>\n",
       "    .dataframe tbody tr th:only-of-type {\n",
       "        vertical-align: middle;\n",
       "    }\n",
       "\n",
       "    .dataframe tbody tr th {\n",
       "        vertical-align: top;\n",
       "    }\n",
       "\n",
       "    .dataframe thead th {\n",
       "        text-align: right;\n",
       "    }\n",
       "</style>\n",
       "<table border=\"1\" class=\"dataframe\">\n",
       "  <thead>\n",
       "    <tr style=\"text-align: right;\">\n",
       "      <th></th>\n",
       "      <th>Description</th>\n",
       "      <th>Tumor 27</th>\n",
       "      <th>Tumor 29</th>\n",
       "      <th>Tumor 34</th>\n",
       "      <th>Tumor 28</th>\n",
       "      <th>Tumor 35</th>\n",
       "      <th>Tumor 8</th>\n",
       "      <th>Tumor 3</th>\n",
       "      <th>Tumor 9</th>\n",
       "      <th>Tumor 4</th>\n",
       "      <th>...</th>\n",
       "      <th>Normal 32</th>\n",
       "      <th>Normal 39</th>\n",
       "      <th>Normal 10</th>\n",
       "      <th>Normal 33</th>\n",
       "      <th>Normal 5</th>\n",
       "      <th>Normal 11</th>\n",
       "      <th>Normal 6</th>\n",
       "      <th>Normal 12</th>\n",
       "      <th>Normal 40</th>\n",
       "      <th>T-Test tumor vs. normal</th>\n",
       "    </tr>\n",
       "    <tr>\n",
       "      <th>Accession Number</th>\n",
       "      <th></th>\n",
       "      <th></th>\n",
       "      <th></th>\n",
       "      <th></th>\n",
       "      <th></th>\n",
       "      <th></th>\n",
       "      <th></th>\n",
       "      <th></th>\n",
       "      <th></th>\n",
       "      <th></th>\n",
       "      <th></th>\n",
       "      <th></th>\n",
       "      <th></th>\n",
       "      <th></th>\n",
       "      <th></th>\n",
       "      <th></th>\n",
       "      <th></th>\n",
       "      <th></th>\n",
       "      <th></th>\n",
       "      <th></th>\n",
       "      <th></th>\n",
       "    </tr>\n",
       "  </thead>\n",
       "  <tbody>\n",
       "    <tr>\n",
       "      <th>X53416</th>\n",
       "      <td>Human mRNA for actin-binding protein (filamin)...</td>\n",
       "      <td>70.0</td>\n",
       "      <td>108.0</td>\n",
       "      <td>75.0</td>\n",
       "      <td>871.0</td>\n",
       "      <td>-92.0</td>\n",
       "      <td>21.0</td>\n",
       "      <td>225.0</td>\n",
       "      <td>-346.0</td>\n",
       "      <td>-378.0</td>\n",
       "      <td>...</td>\n",
       "      <td>1412.0</td>\n",
       "      <td>1122.0</td>\n",
       "      <td>644.0</td>\n",
       "      <td>1760.0</td>\n",
       "      <td>488.0</td>\n",
       "      <td>164.0</td>\n",
       "      <td>1282.0</td>\n",
       "      <td>68.0</td>\n",
       "      <td>928.0</td>\n",
       "      <td>0.0000</td>\n",
       "    </tr>\n",
       "    <tr>\n",
       "      <th>M83670</th>\n",
       "      <td>\"Human carbonic anhydrase IV mRNA, complete cds\"</td>\n",
       "      <td>-81.0</td>\n",
       "      <td>-30.0</td>\n",
       "      <td>-1.0</td>\n",
       "      <td>4.0</td>\n",
       "      <td>-34.0</td>\n",
       "      <td>-13.0</td>\n",
       "      <td>118.0</td>\n",
       "      <td>-35.0</td>\n",
       "      <td>31.0</td>\n",
       "      <td>...</td>\n",
       "      <td>288.0</td>\n",
       "      <td>416.0</td>\n",
       "      <td>625.0</td>\n",
       "      <td>320.0</td>\n",
       "      <td>564.0</td>\n",
       "      <td>330.0</td>\n",
       "      <td>116.0</td>\n",
       "      <td>718.0</td>\n",
       "      <td>332.0</td>\n",
       "      <td>0.0000</td>\n",
       "    </tr>\n",
       "    <tr>\n",
       "      <th>X90908</th>\n",
       "      <td>H.sapiens mRNA for I-15P (I-BABP) protein</td>\n",
       "      <td>25.0</td>\n",
       "      <td>-7.0</td>\n",
       "      <td>5.0</td>\n",
       "      <td>14.0</td>\n",
       "      <td>14.0</td>\n",
       "      <td>5.0</td>\n",
       "      <td>-5.0</td>\n",
       "      <td>37.0</td>\n",
       "      <td>-29.0</td>\n",
       "      <td>...</td>\n",
       "      <td>-21.0</td>\n",
       "      <td>-7.0</td>\n",
       "      <td>-28.0</td>\n",
       "      <td>-8.0</td>\n",
       "      <td>-29.0</td>\n",
       "      <td>-13.0</td>\n",
       "      <td>-4.0</td>\n",
       "      <td>-50.0</td>\n",
       "      <td>4.0</td>\n",
       "      <td>0.3694</td>\n",
       "    </tr>\n",
       "    <tr>\n",
       "      <th>M97496</th>\n",
       "      <td>\"Homo sapiens guanylin mRNA, complete cds\"</td>\n",
       "      <td>10.0</td>\n",
       "      <td>60.0</td>\n",
       "      <td>48.0</td>\n",
       "      <td>78.0</td>\n",
       "      <td>19.0</td>\n",
       "      <td>11.0</td>\n",
       "      <td>175.0</td>\n",
       "      <td>42.0</td>\n",
       "      <td>105.0</td>\n",
       "      <td>...</td>\n",
       "      <td>731.0</td>\n",
       "      <td>1559.0</td>\n",
       "      <td>1762.0</td>\n",
       "      <td>917.0</td>\n",
       "      <td>1303.0</td>\n",
       "      <td>721.0</td>\n",
       "      <td>542.0</td>\n",
       "      <td>1816.0</td>\n",
       "      <td>412.0</td>\n",
       "      <td>0.0000</td>\n",
       "    </tr>\n",
       "    <tr>\n",
       "      <th>X90908</th>\n",
       "      <td>H.sapiens mRNA for I-15P (I-BABP) protein</td>\n",
       "      <td>22.0</td>\n",
       "      <td>0.0</td>\n",
       "      <td>6.0</td>\n",
       "      <td>-6.0</td>\n",
       "      <td>11.0</td>\n",
       "      <td>-18.0</td>\n",
       "      <td>-40.0</td>\n",
       "      <td>39.0</td>\n",
       "      <td>-54.0</td>\n",
       "      <td>...</td>\n",
       "      <td>8.0</td>\n",
       "      <td>5.0</td>\n",
       "      <td>-7.0</td>\n",
       "      <td>-2.0</td>\n",
       "      <td>-9.0</td>\n",
       "      <td>12.0</td>\n",
       "      <td>0.0</td>\n",
       "      <td>-28.0</td>\n",
       "      <td>0.0</td>\n",
       "      <td>0.3492</td>\n",
       "    </tr>\n",
       "  </tbody>\n",
       "</table>\n",
       "<p>5 rows × 38 columns</p>\n",
       "</div>"
      ],
      "text/plain": [
       "                                                        Description  Tumor 27  \\\n",
       "Accession Number                                                                \n",
       "X53416            Human mRNA for actin-binding protein (filamin)...      70.0   \n",
       "M83670             \"Human carbonic anhydrase IV mRNA, complete cds\"     -81.0   \n",
       "X90908                    H.sapiens mRNA for I-15P (I-BABP) protein      25.0   \n",
       "M97496                   \"Homo sapiens guanylin mRNA, complete cds\"      10.0   \n",
       "X90908                    H.sapiens mRNA for I-15P (I-BABP) protein      22.0   \n",
       "\n",
       "                  Tumor 29  Tumor 34  Tumor 28  Tumor 35  Tumor 8  Tumor 3  \\\n",
       "Accession Number                                                             \n",
       "X53416               108.0      75.0     871.0     -92.0     21.0    225.0   \n",
       "M83670               -30.0      -1.0       4.0     -34.0    -13.0    118.0   \n",
       "X90908                -7.0       5.0      14.0      14.0      5.0     -5.0   \n",
       "M97496                60.0      48.0      78.0      19.0     11.0    175.0   \n",
       "X90908                 0.0       6.0      -6.0      11.0    -18.0    -40.0   \n",
       "\n",
       "                  Tumor 9  Tumor 4  ...  Normal 32  Normal 39  Normal 10  \\\n",
       "Accession Number                    ...                                    \n",
       "X53416             -346.0   -378.0  ...     1412.0     1122.0      644.0   \n",
       "M83670              -35.0     31.0  ...      288.0      416.0      625.0   \n",
       "X90908               37.0    -29.0  ...      -21.0       -7.0      -28.0   \n",
       "M97496               42.0    105.0  ...      731.0     1559.0     1762.0   \n",
       "X90908               39.0    -54.0  ...        8.0        5.0       -7.0   \n",
       "\n",
       "                  Normal 33  Normal 5  Normal 11  Normal 6  Normal 12  \\\n",
       "Accession Number                                                        \n",
       "X53416               1760.0     488.0      164.0    1282.0       68.0   \n",
       "M83670                320.0     564.0      330.0     116.0      718.0   \n",
       "X90908                 -8.0     -29.0      -13.0      -4.0      -50.0   \n",
       "M97496                917.0    1303.0      721.0     542.0     1816.0   \n",
       "X90908                 -2.0      -9.0       12.0       0.0      -28.0   \n",
       "\n",
       "                  Normal 40  T-Test tumor vs. normal  \n",
       "Accession Number                                      \n",
       "X53416                928.0                   0.0000  \n",
       "M83670                332.0                   0.0000  \n",
       "X90908                  4.0                   0.3694  \n",
       "M97496                412.0                   0.0000  \n",
       "X90908                  0.0                   0.3492  \n",
       "\n",
       "[5 rows x 38 columns]"
      ]
     },
     "execution_count": 5,
     "metadata": {},
     "output_type": "execute_result"
    }
   ],
   "source": [
    "data.head()"
   ]
  },
  {
   "cell_type": "markdown",
   "metadata": {},
   "source": [
    "Явно укажем вещественный тип данных"
   ]
  },
  {
   "cell_type": "code",
   "execution_count": 4,
   "metadata": {},
   "outputs": [],
   "source": [
    "data.iloc[:, 2:] = data.iloc[:, 2:].astype('float')"
   ]
  },
  {
   "cell_type": "markdown",
   "metadata": {},
   "source": [
    "Проверим, уникальны ли все образцы в датасете, для этого сравним количество уникальных ID генов с количеством рядов:"
   ]
  },
  {
   "cell_type": "code",
   "execution_count": 5,
   "metadata": {},
   "outputs": [
    {
     "data": {
      "text/plain": [
       "(6603, 7463)"
      ]
     },
     "execution_count": 5,
     "metadata": {},
     "output_type": "execute_result"
    }
   ],
   "source": [
    "len(np.unique(data.index)), len(data.index)"
   ]
  },
  {
   "cell_type": "markdown",
   "metadata": {},
   "source": [
    "Некоторые эксперименты повторялись более одного раза. Оставим те, где средний уровень экспрессии выше."
   ]
  },
  {
   "cell_type": "code",
   "execution_count": 6,
   "metadata": {},
   "outputs": [],
   "source": [
    "data['mean_expr'] = data.iloc[:, 1:-1].mean(axis=1)\n",
    "data.sort_values(by=['mean_expr'], ascending=False)\n",
    "data = data.groupby('Accession Number').first()"
   ]
  },
  {
   "cell_type": "markdown",
   "metadata": {},
   "source": [
    "Сохраним описания генов и данные по их экспрессии отдельно. Значение t-теста и средней экспрессии нам не нужны, поэтому избавимся от них"
   ]
  },
  {
   "cell_type": "code",
   "execution_count": 7,
   "metadata": {},
   "outputs": [],
   "source": [
    "expr_data, descr = data.drop(['Description', \n",
    "                              'T-Test tumor vs. normal', \n",
    "                              'mean_expr'], \n",
    "                             axis = 1), \\\n",
    "                    data.Description"
   ]
  },
  {
   "cell_type": "code",
   "execution_count": 8,
   "metadata": {},
   "outputs": [
    {
     "data": {
      "text/html": [
       "<div>\n",
       "<style scoped>\n",
       "    .dataframe tbody tr th:only-of-type {\n",
       "        vertical-align: middle;\n",
       "    }\n",
       "\n",
       "    .dataframe tbody tr th {\n",
       "        vertical-align: top;\n",
       "    }\n",
       "\n",
       "    .dataframe thead th {\n",
       "        text-align: right;\n",
       "    }\n",
       "</style>\n",
       "<table border=\"1\" class=\"dataframe\">\n",
       "  <thead>\n",
       "    <tr style=\"text-align: right;\">\n",
       "      <th></th>\n",
       "      <th>Tumor 27</th>\n",
       "      <th>Tumor 29</th>\n",
       "      <th>Tumor 34</th>\n",
       "      <th>Tumor 28</th>\n",
       "      <th>Tumor 35</th>\n",
       "      <th>Tumor 8</th>\n",
       "      <th>Tumor 3</th>\n",
       "      <th>Tumor 9</th>\n",
       "      <th>Tumor 4</th>\n",
       "      <th>Tumor 32</th>\n",
       "      <th>...</th>\n",
       "      <th>Normal 4</th>\n",
       "      <th>Normal 32</th>\n",
       "      <th>Normal 39</th>\n",
       "      <th>Normal 10</th>\n",
       "      <th>Normal 33</th>\n",
       "      <th>Normal 5</th>\n",
       "      <th>Normal 11</th>\n",
       "      <th>Normal 6</th>\n",
       "      <th>Normal 12</th>\n",
       "      <th>Normal 40</th>\n",
       "    </tr>\n",
       "    <tr>\n",
       "      <th>Accession Number</th>\n",
       "      <th></th>\n",
       "      <th></th>\n",
       "      <th></th>\n",
       "      <th></th>\n",
       "      <th></th>\n",
       "      <th></th>\n",
       "      <th></th>\n",
       "      <th></th>\n",
       "      <th></th>\n",
       "      <th></th>\n",
       "      <th></th>\n",
       "      <th></th>\n",
       "      <th></th>\n",
       "      <th></th>\n",
       "      <th></th>\n",
       "      <th></th>\n",
       "      <th></th>\n",
       "      <th></th>\n",
       "      <th></th>\n",
       "      <th></th>\n",
       "      <th></th>\n",
       "    </tr>\n",
       "  </thead>\n",
       "  <tbody>\n",
       "    <tr>\n",
       "      <th>BioB</th>\n",
       "      <td>-2.0</td>\n",
       "      <td>-11.0</td>\n",
       "      <td>-17.0</td>\n",
       "      <td>-1.0</td>\n",
       "      <td>-14.0</td>\n",
       "      <td>-8.0</td>\n",
       "      <td>-13.0</td>\n",
       "      <td>31.0</td>\n",
       "      <td>-24.0</td>\n",
       "      <td>-17.0</td>\n",
       "      <td>...</td>\n",
       "      <td>-23.0</td>\n",
       "      <td>-10.0</td>\n",
       "      <td>-13.0</td>\n",
       "      <td>-25.0</td>\n",
       "      <td>-12.0</td>\n",
       "      <td>-10.0</td>\n",
       "      <td>3.0</td>\n",
       "      <td>-3.0</td>\n",
       "      <td>-24.0</td>\n",
       "      <td>-14.0</td>\n",
       "    </tr>\n",
       "    <tr>\n",
       "      <th>BioC</th>\n",
       "      <td>12.0</td>\n",
       "      <td>9.0</td>\n",
       "      <td>17.0</td>\n",
       "      <td>18.0</td>\n",
       "      <td>10.0</td>\n",
       "      <td>53.0</td>\n",
       "      <td>-2.0</td>\n",
       "      <td>57.0</td>\n",
       "      <td>-15.0</td>\n",
       "      <td>54.0</td>\n",
       "      <td>...</td>\n",
       "      <td>-16.0</td>\n",
       "      <td>13.0</td>\n",
       "      <td>14.0</td>\n",
       "      <td>-10.0</td>\n",
       "      <td>14.0</td>\n",
       "      <td>-18.0</td>\n",
       "      <td>75.0</td>\n",
       "      <td>-20.0</td>\n",
       "      <td>22.0</td>\n",
       "      <td>3.0</td>\n",
       "    </tr>\n",
       "    <tr>\n",
       "      <th>BioD</th>\n",
       "      <td>107.0</td>\n",
       "      <td>65.0</td>\n",
       "      <td>108.0</td>\n",
       "      <td>95.0</td>\n",
       "      <td>94.0</td>\n",
       "      <td>473.0</td>\n",
       "      <td>93.0</td>\n",
       "      <td>161.0</td>\n",
       "      <td>60.0</td>\n",
       "      <td>232.0</td>\n",
       "      <td>...</td>\n",
       "      <td>58.0</td>\n",
       "      <td>104.0</td>\n",
       "      <td>117.0</td>\n",
       "      <td>142.0</td>\n",
       "      <td>123.0</td>\n",
       "      <td>207.0</td>\n",
       "      <td>461.0</td>\n",
       "      <td>137.0</td>\n",
       "      <td>289.0</td>\n",
       "      <td>82.0</td>\n",
       "    </tr>\n",
       "    <tr>\n",
       "      <th>D00003</th>\n",
       "      <td>2.0</td>\n",
       "      <td>7.0</td>\n",
       "      <td>1.0</td>\n",
       "      <td>-3.0</td>\n",
       "      <td>0.0</td>\n",
       "      <td>10.0</td>\n",
       "      <td>15.0</td>\n",
       "      <td>-2.0</td>\n",
       "      <td>36.0</td>\n",
       "      <td>-1.0</td>\n",
       "      <td>...</td>\n",
       "      <td>626.0</td>\n",
       "      <td>0.0</td>\n",
       "      <td>0.0</td>\n",
       "      <td>74.0</td>\n",
       "      <td>4.0</td>\n",
       "      <td>13.0</td>\n",
       "      <td>24.0</td>\n",
       "      <td>4.0</td>\n",
       "      <td>4.0</td>\n",
       "      <td>-1.0</td>\n",
       "    </tr>\n",
       "    <tr>\n",
       "      <th>D00015</th>\n",
       "      <td>26.0</td>\n",
       "      <td>13.0</td>\n",
       "      <td>13.0</td>\n",
       "      <td>9.0</td>\n",
       "      <td>2.0</td>\n",
       "      <td>10.0</td>\n",
       "      <td>20.0</td>\n",
       "      <td>17.0</td>\n",
       "      <td>21.0</td>\n",
       "      <td>17.0</td>\n",
       "      <td>...</td>\n",
       "      <td>24.0</td>\n",
       "      <td>79.0</td>\n",
       "      <td>22.0</td>\n",
       "      <td>52.0</td>\n",
       "      <td>59.0</td>\n",
       "      <td>40.0</td>\n",
       "      <td>42.0</td>\n",
       "      <td>71.0</td>\n",
       "      <td>43.0</td>\n",
       "      <td>60.0</td>\n",
       "    </tr>\n",
       "  </tbody>\n",
       "</table>\n",
       "<p>5 rows × 36 columns</p>\n",
       "</div>"
      ],
      "text/plain": [
       "                  Tumor 27  Tumor 29  Tumor 34  Tumor 28  Tumor 35  Tumor 8  \\\n",
       "Accession Number                                                              \n",
       "BioB                  -2.0     -11.0     -17.0      -1.0     -14.0     -8.0   \n",
       "BioC                  12.0       9.0      17.0      18.0      10.0     53.0   \n",
       "BioD                 107.0      65.0     108.0      95.0      94.0    473.0   \n",
       "D00003                 2.0       7.0       1.0      -3.0       0.0     10.0   \n",
       "D00015                26.0      13.0      13.0       9.0       2.0     10.0   \n",
       "\n",
       "                  Tumor 3  Tumor 9  Tumor 4  Tumor 32  ...  Normal 4  \\\n",
       "Accession Number                                       ...             \n",
       "BioB                -13.0     31.0    -24.0     -17.0  ...     -23.0   \n",
       "BioC                 -2.0     57.0    -15.0      54.0  ...     -16.0   \n",
       "BioD                 93.0    161.0     60.0     232.0  ...      58.0   \n",
       "D00003               15.0     -2.0     36.0      -1.0  ...     626.0   \n",
       "D00015               20.0     17.0     21.0      17.0  ...      24.0   \n",
       "\n",
       "                  Normal 32  Normal 39  Normal 10  Normal 33  Normal 5  \\\n",
       "Accession Number                                                         \n",
       "BioB                  -10.0      -13.0      -25.0      -12.0     -10.0   \n",
       "BioC                   13.0       14.0      -10.0       14.0     -18.0   \n",
       "BioD                  104.0      117.0      142.0      123.0     207.0   \n",
       "D00003                  0.0        0.0       74.0        4.0      13.0   \n",
       "D00015                 79.0       22.0       52.0       59.0      40.0   \n",
       "\n",
       "                  Normal 11  Normal 6  Normal 12  Normal 40  \n",
       "Accession Number                                             \n",
       "BioB                    3.0      -3.0      -24.0      -14.0  \n",
       "BioC                   75.0     -20.0       22.0        3.0  \n",
       "BioD                  461.0     137.0      289.0       82.0  \n",
       "D00003                 24.0       4.0        4.0       -1.0  \n",
       "D00015                 42.0      71.0       43.0       60.0  \n",
       "\n",
       "[5 rows x 36 columns]"
      ]
     },
     "execution_count": 8,
     "metadata": {},
     "output_type": "execute_result"
    }
   ],
   "source": [
    "expr_data.head()"
   ]
  },
  {
   "cell_type": "markdown",
   "metadata": {},
   "source": [
    "Для удобства работы транспонируем матрицу данных об экспрессии, и разметим для каждой строки, является ли образец опухолевым или нормой"
   ]
  },
  {
   "cell_type": "code",
   "execution_count": 9,
   "metadata": {},
   "outputs": [],
   "source": [
    "expr_data = expr_data.T"
   ]
  },
  {
   "cell_type": "code",
   "execution_count": 12,
   "metadata": {},
   "outputs": [
    {
     "data": {
      "text/html": [
       "<div>\n",
       "<style scoped>\n",
       "    .dataframe tbody tr th:only-of-type {\n",
       "        vertical-align: middle;\n",
       "    }\n",
       "\n",
       "    .dataframe tbody tr th {\n",
       "        vertical-align: top;\n",
       "    }\n",
       "\n",
       "    .dataframe thead th {\n",
       "        text-align: right;\n",
       "    }\n",
       "</style>\n",
       "<table border=\"1\" class=\"dataframe\">\n",
       "  <thead>\n",
       "    <tr style=\"text-align: right;\">\n",
       "      <th>Accession Number</th>\n",
       "      <th>BioB</th>\n",
       "      <th>BioC</th>\n",
       "      <th>BioD</th>\n",
       "      <th>D00003</th>\n",
       "      <th>D00015</th>\n",
       "      <th>D00102</th>\n",
       "      <th>D00137</th>\n",
       "      <th>D00173</th>\n",
       "      <th>D00265</th>\n",
       "      <th>D00306</th>\n",
       "      <th>...</th>\n",
       "      <th>Z50194</th>\n",
       "      <th>Z50753</th>\n",
       "      <th>Z50788</th>\n",
       "      <th>b-actin-3</th>\n",
       "      <th>b-actin-5</th>\n",
       "      <th>b-actin-M</th>\n",
       "      <th>cre</th>\n",
       "      <th>gapdh-3</th>\n",
       "      <th>gapdh-5</th>\n",
       "      <th>gapdh-M</th>\n",
       "    </tr>\n",
       "  </thead>\n",
       "  <tbody>\n",
       "    <tr>\n",
       "      <th>Tumor 27</th>\n",
       "      <td>-2.0</td>\n",
       "      <td>12.0</td>\n",
       "      <td>107.0</td>\n",
       "      <td>2.0</td>\n",
       "      <td>26.0</td>\n",
       "      <td>5.0</td>\n",
       "      <td>18.0</td>\n",
       "      <td>1.0</td>\n",
       "      <td>153.0</td>\n",
       "      <td>-7.0</td>\n",
       "      <td>...</td>\n",
       "      <td>6.0</td>\n",
       "      <td>35.0</td>\n",
       "      <td>-1.0</td>\n",
       "      <td>797.0</td>\n",
       "      <td>559.0</td>\n",
       "      <td>849.0</td>\n",
       "      <td>246.0</td>\n",
       "      <td>1214.0</td>\n",
       "      <td>676.0</td>\n",
       "      <td>873.0</td>\n",
       "    </tr>\n",
       "    <tr>\n",
       "      <th>Tumor 29</th>\n",
       "      <td>-11.0</td>\n",
       "      <td>9.0</td>\n",
       "      <td>65.0</td>\n",
       "      <td>7.0</td>\n",
       "      <td>13.0</td>\n",
       "      <td>2.0</td>\n",
       "      <td>13.0</td>\n",
       "      <td>5.0</td>\n",
       "      <td>145.0</td>\n",
       "      <td>-7.0</td>\n",
       "      <td>...</td>\n",
       "      <td>19.0</td>\n",
       "      <td>26.0</td>\n",
       "      <td>3.0</td>\n",
       "      <td>1298.0</td>\n",
       "      <td>409.0</td>\n",
       "      <td>1093.0</td>\n",
       "      <td>414.0</td>\n",
       "      <td>1394.0</td>\n",
       "      <td>477.0</td>\n",
       "      <td>609.0</td>\n",
       "    </tr>\n",
       "    <tr>\n",
       "      <th>Tumor 34</th>\n",
       "      <td>-17.0</td>\n",
       "      <td>17.0</td>\n",
       "      <td>108.0</td>\n",
       "      <td>1.0</td>\n",
       "      <td>13.0</td>\n",
       "      <td>0.0</td>\n",
       "      <td>11.0</td>\n",
       "      <td>10.0</td>\n",
       "      <td>132.0</td>\n",
       "      <td>-6.0</td>\n",
       "      <td>...</td>\n",
       "      <td>2.0</td>\n",
       "      <td>25.0</td>\n",
       "      <td>1.0</td>\n",
       "      <td>862.0</td>\n",
       "      <td>667.0</td>\n",
       "      <td>961.0</td>\n",
       "      <td>449.0</td>\n",
       "      <td>1252.0</td>\n",
       "      <td>635.0</td>\n",
       "      <td>754.0</td>\n",
       "    </tr>\n",
       "    <tr>\n",
       "      <th>Tumor 28</th>\n",
       "      <td>-1.0</td>\n",
       "      <td>18.0</td>\n",
       "      <td>95.0</td>\n",
       "      <td>-3.0</td>\n",
       "      <td>9.0</td>\n",
       "      <td>10.0</td>\n",
       "      <td>28.0</td>\n",
       "      <td>8.0</td>\n",
       "      <td>73.0</td>\n",
       "      <td>-17.0</td>\n",
       "      <td>...</td>\n",
       "      <td>23.0</td>\n",
       "      <td>41.0</td>\n",
       "      <td>-2.0</td>\n",
       "      <td>1047.0</td>\n",
       "      <td>643.0</td>\n",
       "      <td>1100.0</td>\n",
       "      <td>369.0</td>\n",
       "      <td>1313.0</td>\n",
       "      <td>785.0</td>\n",
       "      <td>1013.0</td>\n",
       "    </tr>\n",
       "    <tr>\n",
       "      <th>Tumor 35</th>\n",
       "      <td>-14.0</td>\n",
       "      <td>10.0</td>\n",
       "      <td>94.0</td>\n",
       "      <td>0.0</td>\n",
       "      <td>2.0</td>\n",
       "      <td>-5.0</td>\n",
       "      <td>6.0</td>\n",
       "      <td>10.0</td>\n",
       "      <td>184.0</td>\n",
       "      <td>10.0</td>\n",
       "      <td>...</td>\n",
       "      <td>-1.0</td>\n",
       "      <td>29.0</td>\n",
       "      <td>2.0</td>\n",
       "      <td>1253.0</td>\n",
       "      <td>437.0</td>\n",
       "      <td>844.0</td>\n",
       "      <td>345.0</td>\n",
       "      <td>1292.0</td>\n",
       "      <td>497.0</td>\n",
       "      <td>669.0</td>\n",
       "    </tr>\n",
       "  </tbody>\n",
       "</table>\n",
       "<p>5 rows × 6603 columns</p>\n",
       "</div>"
      ],
      "text/plain": [
       "Accession Number  BioB  BioC   BioD  D00003  D00015  D00102  D00137  D00173  \\\n",
       "Tumor 27          -2.0  12.0  107.0     2.0    26.0     5.0    18.0     1.0   \n",
       "Tumor 29         -11.0   9.0   65.0     7.0    13.0     2.0    13.0     5.0   \n",
       "Tumor 34         -17.0  17.0  108.0     1.0    13.0     0.0    11.0    10.0   \n",
       "Tumor 28          -1.0  18.0   95.0    -3.0     9.0    10.0    28.0     8.0   \n",
       "Tumor 35         -14.0  10.0   94.0     0.0     2.0    -5.0     6.0    10.0   \n",
       "\n",
       "Accession Number  D00265  D00306  ...  Z50194  Z50753  Z50788  b-actin-3  \\\n",
       "Tumor 27           153.0    -7.0  ...     6.0    35.0    -1.0      797.0   \n",
       "Tumor 29           145.0    -7.0  ...    19.0    26.0     3.0     1298.0   \n",
       "Tumor 34           132.0    -6.0  ...     2.0    25.0     1.0      862.0   \n",
       "Tumor 28            73.0   -17.0  ...    23.0    41.0    -2.0     1047.0   \n",
       "Tumor 35           184.0    10.0  ...    -1.0    29.0     2.0     1253.0   \n",
       "\n",
       "Accession Number  b-actin-5  b-actin-M    cre  gapdh-3  gapdh-5  gapdh-M  \n",
       "Tumor 27              559.0      849.0  246.0   1214.0    676.0    873.0  \n",
       "Tumor 29              409.0     1093.0  414.0   1394.0    477.0    609.0  \n",
       "Tumor 34              667.0      961.0  449.0   1252.0    635.0    754.0  \n",
       "Tumor 28              643.0     1100.0  369.0   1313.0    785.0   1013.0  \n",
       "Tumor 35              437.0      844.0  345.0   1292.0    497.0    669.0  \n",
       "\n",
       "[5 rows x 6603 columns]"
      ]
     },
     "execution_count": 12,
     "metadata": {},
     "output_type": "execute_result"
    }
   ],
   "source": [
    "expr_data.head()"
   ]
  },
  {
   "cell_type": "markdown",
   "metadata": {},
   "source": [
    " С помощью функции map осуществите разметку данных (-1 - опухолевые, 1 - здоровые)"
   ]
  },
  {
   "cell_type": "code",
   "execution_count": 10,
   "metadata": {},
   "outputs": [],
   "source": [
    "#your code here\n",
    "def map_func(string):\n",
    "    if string.startswith(\"Tumor\"):\n",
    "        return -1\n",
    "    if string.startswith(\"Normal\"):\n",
    "        return 1\n",
    "arr = list(expr_data.index)\n",
    "mapped = list(map(map_func, arr))\n",
    "expr_data[\"Map\"] = mapped"
   ]
  },
  {
   "cell_type": "code",
   "execution_count": 11,
   "metadata": {},
   "outputs": [
    {
     "data": {
      "text/html": [
       "<div>\n",
       "<style scoped>\n",
       "    .dataframe tbody tr th:only-of-type {\n",
       "        vertical-align: middle;\n",
       "    }\n",
       "\n",
       "    .dataframe tbody tr th {\n",
       "        vertical-align: top;\n",
       "    }\n",
       "\n",
       "    .dataframe thead th {\n",
       "        text-align: right;\n",
       "    }\n",
       "</style>\n",
       "<table border=\"1\" class=\"dataframe\">\n",
       "  <thead>\n",
       "    <tr style=\"text-align: right;\">\n",
       "      <th>Accession Number</th>\n",
       "      <th>BioB</th>\n",
       "      <th>BioC</th>\n",
       "      <th>BioD</th>\n",
       "      <th>D00003</th>\n",
       "      <th>D00015</th>\n",
       "      <th>D00102</th>\n",
       "      <th>D00137</th>\n",
       "      <th>D00173</th>\n",
       "      <th>D00265</th>\n",
       "      <th>D00306</th>\n",
       "      <th>...</th>\n",
       "      <th>Z50753</th>\n",
       "      <th>Z50788</th>\n",
       "      <th>b-actin-3</th>\n",
       "      <th>b-actin-5</th>\n",
       "      <th>b-actin-M</th>\n",
       "      <th>cre</th>\n",
       "      <th>gapdh-3</th>\n",
       "      <th>gapdh-5</th>\n",
       "      <th>gapdh-M</th>\n",
       "      <th>Map</th>\n",
       "    </tr>\n",
       "  </thead>\n",
       "  <tbody>\n",
       "    <tr>\n",
       "      <th>Tumor 27</th>\n",
       "      <td>-2.0</td>\n",
       "      <td>12.0</td>\n",
       "      <td>107.0</td>\n",
       "      <td>2.0</td>\n",
       "      <td>26.0</td>\n",
       "      <td>5.0</td>\n",
       "      <td>18.0</td>\n",
       "      <td>1.0</td>\n",
       "      <td>153.0</td>\n",
       "      <td>-7.0</td>\n",
       "      <td>...</td>\n",
       "      <td>35.0</td>\n",
       "      <td>-1.0</td>\n",
       "      <td>797.0</td>\n",
       "      <td>559.0</td>\n",
       "      <td>849.0</td>\n",
       "      <td>246.0</td>\n",
       "      <td>1214.0</td>\n",
       "      <td>676.0</td>\n",
       "      <td>873.0</td>\n",
       "      <td>-1</td>\n",
       "    </tr>\n",
       "    <tr>\n",
       "      <th>Tumor 29</th>\n",
       "      <td>-11.0</td>\n",
       "      <td>9.0</td>\n",
       "      <td>65.0</td>\n",
       "      <td>7.0</td>\n",
       "      <td>13.0</td>\n",
       "      <td>2.0</td>\n",
       "      <td>13.0</td>\n",
       "      <td>5.0</td>\n",
       "      <td>145.0</td>\n",
       "      <td>-7.0</td>\n",
       "      <td>...</td>\n",
       "      <td>26.0</td>\n",
       "      <td>3.0</td>\n",
       "      <td>1298.0</td>\n",
       "      <td>409.0</td>\n",
       "      <td>1093.0</td>\n",
       "      <td>414.0</td>\n",
       "      <td>1394.0</td>\n",
       "      <td>477.0</td>\n",
       "      <td>609.0</td>\n",
       "      <td>-1</td>\n",
       "    </tr>\n",
       "    <tr>\n",
       "      <th>Tumor 34</th>\n",
       "      <td>-17.0</td>\n",
       "      <td>17.0</td>\n",
       "      <td>108.0</td>\n",
       "      <td>1.0</td>\n",
       "      <td>13.0</td>\n",
       "      <td>0.0</td>\n",
       "      <td>11.0</td>\n",
       "      <td>10.0</td>\n",
       "      <td>132.0</td>\n",
       "      <td>-6.0</td>\n",
       "      <td>...</td>\n",
       "      <td>25.0</td>\n",
       "      <td>1.0</td>\n",
       "      <td>862.0</td>\n",
       "      <td>667.0</td>\n",
       "      <td>961.0</td>\n",
       "      <td>449.0</td>\n",
       "      <td>1252.0</td>\n",
       "      <td>635.0</td>\n",
       "      <td>754.0</td>\n",
       "      <td>-1</td>\n",
       "    </tr>\n",
       "    <tr>\n",
       "      <th>Tumor 28</th>\n",
       "      <td>-1.0</td>\n",
       "      <td>18.0</td>\n",
       "      <td>95.0</td>\n",
       "      <td>-3.0</td>\n",
       "      <td>9.0</td>\n",
       "      <td>10.0</td>\n",
       "      <td>28.0</td>\n",
       "      <td>8.0</td>\n",
       "      <td>73.0</td>\n",
       "      <td>-17.0</td>\n",
       "      <td>...</td>\n",
       "      <td>41.0</td>\n",
       "      <td>-2.0</td>\n",
       "      <td>1047.0</td>\n",
       "      <td>643.0</td>\n",
       "      <td>1100.0</td>\n",
       "      <td>369.0</td>\n",
       "      <td>1313.0</td>\n",
       "      <td>785.0</td>\n",
       "      <td>1013.0</td>\n",
       "      <td>-1</td>\n",
       "    </tr>\n",
       "    <tr>\n",
       "      <th>Tumor 35</th>\n",
       "      <td>-14.0</td>\n",
       "      <td>10.0</td>\n",
       "      <td>94.0</td>\n",
       "      <td>0.0</td>\n",
       "      <td>2.0</td>\n",
       "      <td>-5.0</td>\n",
       "      <td>6.0</td>\n",
       "      <td>10.0</td>\n",
       "      <td>184.0</td>\n",
       "      <td>10.0</td>\n",
       "      <td>...</td>\n",
       "      <td>29.0</td>\n",
       "      <td>2.0</td>\n",
       "      <td>1253.0</td>\n",
       "      <td>437.0</td>\n",
       "      <td>844.0</td>\n",
       "      <td>345.0</td>\n",
       "      <td>1292.0</td>\n",
       "      <td>497.0</td>\n",
       "      <td>669.0</td>\n",
       "      <td>-1</td>\n",
       "    </tr>\n",
       "  </tbody>\n",
       "</table>\n",
       "<p>5 rows × 6604 columns</p>\n",
       "</div>"
      ],
      "text/plain": [
       "Accession Number  BioB  BioC   BioD  D00003  D00015  D00102  D00137  D00173  \\\n",
       "Tumor 27          -2.0  12.0  107.0     2.0    26.0     5.0    18.0     1.0   \n",
       "Tumor 29         -11.0   9.0   65.0     7.0    13.0     2.0    13.0     5.0   \n",
       "Tumor 34         -17.0  17.0  108.0     1.0    13.0     0.0    11.0    10.0   \n",
       "Tumor 28          -1.0  18.0   95.0    -3.0     9.0    10.0    28.0     8.0   \n",
       "Tumor 35         -14.0  10.0   94.0     0.0     2.0    -5.0     6.0    10.0   \n",
       "\n",
       "Accession Number  D00265  D00306  ...  Z50753  Z50788  b-actin-3  b-actin-5  \\\n",
       "Tumor 27           153.0    -7.0  ...    35.0    -1.0      797.0      559.0   \n",
       "Tumor 29           145.0    -7.0  ...    26.0     3.0     1298.0      409.0   \n",
       "Tumor 34           132.0    -6.0  ...    25.0     1.0      862.0      667.0   \n",
       "Tumor 28            73.0   -17.0  ...    41.0    -2.0     1047.0      643.0   \n",
       "Tumor 35           184.0    10.0  ...    29.0     2.0     1253.0      437.0   \n",
       "\n",
       "Accession Number  b-actin-M    cre  gapdh-3  gapdh-5  gapdh-M  Map  \n",
       "Tumor 27              849.0  246.0   1214.0    676.0    873.0   -1  \n",
       "Tumor 29             1093.0  414.0   1394.0    477.0    609.0   -1  \n",
       "Tumor 34              961.0  449.0   1252.0    635.0    754.0   -1  \n",
       "Tumor 28             1100.0  369.0   1313.0    785.0   1013.0   -1  \n",
       "Tumor 35              844.0  345.0   1292.0    497.0    669.0   -1  \n",
       "\n",
       "[5 rows x 6604 columns]"
      ]
     },
     "execution_count": 11,
     "metadata": {},
     "output_type": "execute_result"
    }
   ],
   "source": [
    "expr_data.head()"
   ]
  },
  {
   "cell_type": "code",
   "execution_count": 12,
   "metadata": {},
   "outputs": [
    {
     "name": "stdout",
     "output_type": "stream",
     "text": [
      "<class 'pandas.core.frame.DataFrame'>\n",
      "Index: 36 entries, Tumor 27 to Normal 40\n",
      "Columns: 6604 entries, BioB to Map\n",
      "dtypes: float64(6603), int64(1)\n",
      "memory usage: 1.8+ MB\n"
     ]
    }
   ],
   "source": [
    "expr_data.info()"
   ]
  },
  {
   "cell_type": "markdown",
   "metadata": {},
   "source": [
    "Значения дифференциальной эскпрессии гена в образцах могут быть крайне различны. \n",
    "Для каждого гена можно характеризовать разброс экспрессии как среднее, максимум и минимум (отдельно в опухолевых и в контролях). Постройте гистограммы этих значений в опухолевых образцах и в контролях. "
   ]
  },
  {
   "cell_type": "code",
   "execution_count": 13,
   "metadata": {},
   "outputs": [],
   "source": [
    "# your code here\n",
    "mean_norm = []\n",
    "max_norm = []\n",
    "min_norm = []\n",
    "max_tum = []\n",
    "min_tum = []\n",
    "mean_tum = []\n",
    "for gene in list(expr_data):\n",
    "    mean_norm.append(expr_data[gene][expr_data[\"Map\"]==1].mean())\n",
    "    max_norm.append(expr_data[gene][expr_data[\"Map\"]==1].max())\n",
    "    min_norm.append(expr_data[gene][expr_data[\"Map\"]==1].min())\n",
    "    mean_tum.append(expr_data[gene][expr_data[\"Map\"]==-1].mean())\n",
    "    max_tum.append(expr_data[gene][expr_data[\"Map\"]==-1].max())\n",
    "    min_tum.append(expr_data[gene][expr_data[\"Map\"]==-1].min())"
   ]
  },
  {
   "cell_type": "code",
   "execution_count": 17,
   "metadata": {},
   "outputs": [],
   "source": [
    "N_bins = 100"
   ]
  },
  {
   "cell_type": "code",
   "execution_count": 18,
   "metadata": {},
   "outputs": [
    {
     "data": {
      "image/png": "[encoded data removed]",
      "text/plain": [
       "<Figure size 432x288 with 1 Axes>"
      ]
     },
     "metadata": {
      "needs_background": "light"
     },
     "output_type": "display_data"
    }
   ],
   "source": [
    "plt.hist(mean_norm, bins=N_bins, label=\"Mean_norm\", range=[-100,500])\n",
    "plt.hist(mean_tum, bins=N_bins, label=\"Mean_tumor\", range=[-100,500])\n",
    "plt.legend()\n",
    "plt.show()"
   ]
  },
  {
   "cell_type": "code",
   "execution_count": 20,
   "metadata": {},
   "outputs": [
    {
     "data": {
      "image/png": "[encoded data removed]",
      "text/plain": [
       "<Figure size 432x288 with 1 Axes>"
      ]
     },
     "metadata": {
      "needs_background": "light"
     },
     "output_type": "display_data"
    }
   ],
   "source": [
    "plt.hist(max_norm, bins=N_bins, label=\"Max_norm\", range=[-100,500])\n",
    "plt.hist(max_tum, bins=N_bins, label=\"Max_tumor\", range=[-100,500])\n",
    "plt.legend()\n",
    "plt.show()"
   ]
  },
  {
   "cell_type": "code",
   "execution_count": 19,
   "metadata": {},
   "outputs": [
    {
     "data": {
      "image/png": "[encoded data removed]",
      "text/plain": [
       "<Figure size 432x288 with 1 Axes>"
      ]
     },
     "metadata": {
      "needs_background": "light"
     },
     "output_type": "display_data"
    }
   ],
   "source": [
    "plt.hist(min_norm, bins=N_bins, label=\"Min_norm\", range=[-200,200])\n",
    "plt.hist(min_tum, bins=N_bins, label=\"Min_tumor\", range=[-200,200])\n",
    "plt.legend()\n",
    "plt.show()"
   ]
  },
  {
   "cell_type": "markdown",
   "metadata": {},
   "source": [
    "Все распределения очень похожи"
   ]
  },
  {
   "cell_type": "markdown",
   "metadata": {},
   "source": [
    "## 1. Предварительная визуализация"
   ]
  },
  {
   "cell_type": "markdown",
   "metadata": {},
   "source": [
    "Посмотрим на значения экспрессии случайного гена"
   ]
  },
  {
   "cell_type": "code",
   "execution_count": 20,
   "metadata": {},
   "outputs": [
    {
     "data": {
      "image/png": "[encoded data removed]",
      "text/plain": [
       "<Figure size 864x432 with 2 Axes>"
      ]
     },
     "metadata": {
      "needs_background": "light"
     },
     "output_type": "display_data"
    }
   ],
   "source": [
    "plt.figure(figsize=(12, 6))\n",
    "plt.subplot(121)\n",
    "sns.distplot(expr_data[expr_data[\"Map\"]==1].iloc[:, 6], kde=True)\n",
    "plt.title('Normal')\n",
    "plt.subplot(122)\n",
    "sns.distplot(expr_data[expr_data[\"Map\"]==-1].iloc[:, 6], kde=True)\n",
    "plt.title('Tumor');"
   ]
  },
  {
   "cell_type": "markdown",
   "metadata": {},
   "source": [
    "Сравним плотности этих распределений с помощью kdeplot и разброс значений с помощью боксплотов:"
   ]
  },
  {
   "cell_type": "code",
   "execution_count": 21,
   "metadata": {},
   "outputs": [
    {
     "data": {
      "image/png": "[encoded data removed]",
      "text/plain": [
       "<Figure size 432x288 with 1 Axes>"
      ]
     },
     "metadata": {
      "needs_background": "light"
     },
     "output_type": "display_data"
    }
   ],
   "source": [
    "sns.kdeplot(expr_data[expr_data[\"Map\"]==1].iloc[:, 6], label=\"Normal\")\n",
    "sns.kdeplot(expr_data[expr_data[\"Map\"]==-1].iloc[:, 6], label=\"Tumor\")\n",
    "plt.show()"
   ]
  },
  {
   "cell_type": "code",
   "execution_count": 22,
   "metadata": {},
   "outputs": [
    {
     "data": {
      "image/png": "[encoded data removed]",
      "text/plain": [
       "<Figure size 432x288 with 1 Axes>"
      ]
     },
     "metadata": {
      "needs_background": "light"
     },
     "output_type": "display_data"
    }
   ],
   "source": [
    "fig, ax = plt.subplots()\n",
    "pos = [\"Normal\", \"Tumor\"]\n",
    "bp = ax.boxplot([expr_data[expr_data[\"Map\"]==1].iloc[:, 6], expr_data[expr_data[\"Map\"]==-1].iloc[:, 6]])\n",
    "ax.set_xticklabels(pos)\n",
    "plt.show()"
   ]
  },
  {
   "cell_type": "markdown",
   "metadata": {},
   "source": [
    "На графиках видно, что для одного случайного гена профили экспрессии возможно различаются.  \n",
    "Но насколько это статистически доставерно и такова ли эта картина в целом?   \n",
    "  \n",
    "  \n",
    "Для продолжения анализа необходимо понять, как именно были получены данные. Для этого обратимся к статье:  \n",
    "_Gene intensity information was converted to a mean intensity for each gene by proprietary software (Affymetrix), which includes routines for filtering and centering the data (in these experiments, to 50 intensity units). Expression of genes related to smooth muscle and connective tissue was consistently greater in the normal than the tumor samples, probably because of the greater heterogeneity of tissue type in the normal samples_\n",
    "\n",
    "Видим, что нормализация данных уже выполнена.\n",
    "Во многих случаях для визуализации удобно переходить к логарифмическому формату данных."
   ]
  },
  {
   "cell_type": "markdown",
   "metadata": {},
   "source": [
    "## 2. Анализ распределений"
   ]
  },
  {
   "cell_type": "markdown",
   "metadata": {},
   "source": [
    "Предварительный зрительный анализ может сказать очень многое о том, как устроены наши данные. Тем не менее, для получения полной картины простого взгрляда на данные недостаточно. Первое на что нужно обрать внимание - это параметры распределения. Все распределения в первую очередь характеризуются медианой и средним. Объясните разницу между ними. Для гена 'D00137' вычислите медиану и средний уровень мРНК в опухолевых и нормальных тканей.\n",
    "  "
   ]
  },
  {
   "cell_type": "markdown",
   "metadata": {},
   "source": [
    "Ответ:\n",
    "\n",
    "Медиана и среднее различаются, что среднее зависит от значений в выборке, а медиана только от их ранжирования\n",
    "\n",
    "Среднее, например, чувствительно к выбросам, а медиана нет"
   ]
  },
  {
   "cell_type": "code",
   "execution_count": 23,
   "metadata": {},
   "outputs": [
    {
     "name": "stdout",
     "output_type": "stream",
     "text": [
      "Normal mean =  97.0\n",
      "Tumor mean =  28.166666666666668\n"
     ]
    }
   ],
   "source": [
    "#your code here\n",
    "print(\"Normal mean = \", expr_data[\"D00137\"][expr_data[\"Map\"]==1].mean())\n",
    "print(\"Tumor mean = \", expr_data[\"D00137\"][expr_data[\"Map\"]==-1].mean())"
   ]
  },
  {
   "cell_type": "code",
   "execution_count": 24,
   "metadata": {},
   "outputs": [
    {
     "name": "stdout",
     "output_type": "stream",
     "text": [
      "Normal median =  94.0\n",
      "Tumor median =  17.0\n"
     ]
    }
   ],
   "source": [
    "print(\"Normal median = \", expr_data[\"D00137\"][expr_data[\"Map\"]==1].median())\n",
    "print(\"Tumor median = \", expr_data[\"D00137\"][expr_data[\"Map\"]==-1].median())"
   ]
  },
  {
   "cell_type": "markdown",
   "metadata": {},
   "source": [
    "Видно, что сдвиг между медианой и средним и нормальных гораздо меньше, чем у опухолевых\n",
    "\n",
    "Как можно увидеть из ядерноой оценки плотности и боксплота, у опухоли больше выбросов, распределение менее \"однородное\" чем этот сдвиг и объясняется"
   ]
  },
  {
   "cell_type": "markdown",
   "metadata": {},
   "source": [
    "## 3. Проверка статистических гипотез"
   ]
  },
  {
   "cell_type": "markdown",
   "metadata": {},
   "source": [
    "Для того, чтобы утверждать, что \"ген X овер-экспрессирован в опухолевых образцах\", недостаточно просто посмотреть на боксплоты, необходимо провести статистический анализ"
   ]
  },
  {
   "cell_type": "markdown",
   "metadata": {},
   "source": [
    "Анализ одного гена 3:  \n",
    "    $\\mathsf{H}_0\\colon$ для гена H.sapiens mRNA for I-15P (I-BABP) protein диф экспрессия не наблюдается;  \n",
    "    $\\mathsf{H}_1\\colon$ для гена H.sapiens mRNA for I-15P (I-BABP) protein диф экспрессия наблюдается."
   ]
  },
  {
   "cell_type": "markdown",
   "metadata": {},
   "source": [
    "Какой тест стоит выбрать для проверки того, одинаковые ли профили экспрессии в нормальных и опухолевых образцах? (предположим, что эти распределения - нормальны)?  \n",
    "Реализуйте его с помощью пакета `scipy`."
   ]
  },
  {
   "cell_type": "markdown",
   "metadata": {},
   "source": [
    "В предположении нормальности распределений можно пользоваться критерием Стьюдента, но с учетом возможной различности вариаций"
   ]
  },
  {
   "cell_type": "code",
   "execution_count": 25,
   "metadata": {},
   "outputs": [
    {
     "data": {
      "text/plain": [
       "Ttest_indResult(statistic=5.985803078987308, pvalue=1.0869056401678417e-06)"
      ]
     },
     "execution_count": 25,
     "metadata": {},
     "output_type": "execute_result"
    }
   ],
   "source": [
    "#your answer here\n",
    "scp.stats.ttest_ind(expr_data[\"D00137\"][expr_data[\"Map\"]==1], expr_data[\"D00137\"][expr_data[\"Map\"]==-1], axis=0, equal_var=False)"
   ]
  },
  {
   "cell_type": "markdown",
   "metadata": {},
   "source": [
    "Интерпретируйте результаты:\n",
    "\n",
    "    #your text here\n",
    "    p-value << 0.05, так что можно сделать вывод, что рез-тат статистически значим и профили в нормльных и опухолевых образцах различны "
   ]
  },
  {
   "cell_type": "markdown",
   "metadata": {},
   "source": [
    "Давайте проверим, что наши данные действительно разделяются на два разных распределения. Для этого проверим, как будет работать этот же метод, если случайным образом перемешать метки подгрупп. Реализуйте случайное сэмплирование с помощью функции `random.choice` из библиотеки `numpy` и посмотрите, как изменится p-value (и изменится ли)."
   ]
  },
  {
   "cell_type": "code",
   "execution_count": 26,
   "metadata": {},
   "outputs": [],
   "source": [
    "#your code here\n",
    "arr_merged = expr_data[\"D00137\"][expr_data[\"Map\"]==1].append(expr_data[\"D00137\"][expr_data[\"Map\"]==-1])\n",
    "len1 = len(expr_data[\"D00137\"][expr_data[\"Map\"]==1])\n",
    "length = len(arr_merged)"
   ]
  },
  {
   "cell_type": "code",
   "execution_count": 120,
   "metadata": {},
   "outputs": [
    {
     "data": {
      "image/png": "[encoded data removed]",
      "text/plain": [
       "<Figure size 432x288 with 1 Axes>"
      ]
     },
     "metadata": {
      "needs_background": "light"
     },
     "output_type": "display_data"
    }
   ],
   "source": [
    "N_trials = 100\n",
    "p_values = []\n",
    "for j in range(N_trials):\n",
    "    labels1 = np.random.choice(length, len1, replace=False)\n",
    "    labels2 = []\n",
    "    for i in range(length):\n",
    "        if i not in labels1:\n",
    "            labels2.append(i)\n",
    "    #for i in np.random.choice(length, len1):\n",
    "    data1 = arr_merged[labels1]\n",
    "    data2 = arr_merged[labels2]\n",
    "    p_values.append(scp.stats.ttest_ind(data1, data2, axis=0, equal_var=False)[1])\n",
    "plt.hist(p_values, bins=int(N_trials/3))\n",
    "plt.title(\"p-value using random dataset selection\")\n",
    "plt.axvline(0.05, color=\"red\", ls=\"dashed\", alpha=0.2)\n",
    "plt.show()"
   ]
  },
  {
   "cell_type": "markdown",
   "metadata": {},
   "source": [
    "#your text here\n",
    "\n",
    "Как видно из распределения p-values, полученных случайной генерацией двух выборок изначальных размеров из первоначальных значений, подавляющее кол-во раз p-value > и даже >> 0.05, так что распределения действительно разные"
   ]
  },
  {
   "cell_type": "markdown",
   "metadata": {},
   "source": [
    "И, наконец, самое интересное. Посчитайте, в каком проценте генов, для которых с уровнем значимости 0.05 наблюдается овер-экспрессия в опухолевых тканях.\n",
    "При этом важно выполнить поправку на множественное тестирование.  \n",
    "Сначала реализуйте T-test и поправку Бонферрони самостоятельно, затем - воспользуйтесь функциями из пакетов `scipy` или `statmodels`."
   ]
  },
  {
   "cell_type": "markdown",
   "metadata": {},
   "source": [
    "Объясните, зачем необходимо выполнять поправку на множественное тестирование:"
   ]
  },
  {
   "cell_type": "markdown",
   "metadata": {},
   "source": [
    "#your text here\n",
    "\n",
    "Так как для каждого гена мы вводим гипотезу наличия оверэкспрессии, при проверке большого кол-ва таких гипотез на уровне $\\alpha$ вероятность того, что хотя бы одна из гипотез будет отвергнута с ошибкой первого рода будет $1-(1-\\alpha)^N$, что быстро растет с ростом $N$ - кол-ва гипотез\n",
    "\n",
    "Для поддержания этого уровня на требуемом $\\alpha$ для всего набора гипотез и вводятся поправки"
   ]
  },
  {
   "cell_type": "markdown",
   "metadata": {},
   "source": [
    "Посмотрим, можно ли вообще считать распределения нормальными (чтобы потом использовать Welch's test)"
   ]
  },
  {
   "cell_type": "code",
   "execution_count": 25,
   "metadata": {},
   "outputs": [],
   "source": [
    "list1 = []\n",
    "list2 = []\n",
    "for gene in list(expr_data):\n",
    "    if gene != \"Map\":\n",
    "        list1.append(float(scp.stats.shapiro(expr_data[gene][expr_data[\"Map\"]==1])[1]))\n",
    "        list2.append(float(scp.stats.shapiro(expr_data[gene][expr_data[\"Map\"]==-1])[1]))"
   ]
  },
  {
   "cell_type": "code",
   "execution_count": 29,
   "metadata": {},
   "outputs": [
    {
     "name": "stdout",
     "output_type": "stream",
     "text": [
      "27.290625473269724 %\n"
     ]
    },
    {
     "data": {
      "image/png": "[encoded data removed]",
      "text/plain": [
       "<Figure size 432x288 with 1 Axes>"
      ]
     },
     "metadata": {
      "needs_background": "light"
     },
     "output_type": "display_data"
    }
   ],
   "source": [
    "num1 = 0\n",
    "for i in range(len(list1)):\n",
    "    if list1[i] < 0.05:\n",
    "        num1 += 1\n",
    "print(num1/len(list1)*100, \"% less 0.05\")\n",
    "\n",
    "plt.hist(list1, bins=20)\n",
    "plt.title(\"Shapiro p-value normal\")\n",
    "plt.axvline(0.05, color=\"red\", ls=\"dashed\", alpha=0.2)\n",
    "plt.show()"
   ]
  },
  {
   "cell_type": "code",
   "execution_count": 30,
   "metadata": {},
   "outputs": [
    {
     "name": "stdout",
     "output_type": "stream",
     "text": [
      "25.927608662729064 % less 0.05\n"
     ]
    },
    {
     "data": {
      "image/png": "[encoded data removed]",
      "text/plain": [
       "<Figure size 432x288 with 1 Axes>"
      ]
     },
     "metadata": {
      "needs_background": "light"
     },
     "output_type": "display_data"
    }
   ],
   "source": [
    "num2 = 0\n",
    "for i in range(len(list2)):\n",
    "    if list2[i] < 0.05:\n",
    "        num2 += 1\n",
    "print(num2/len(list2)*100, \"% less 0.05\")\n",
    "\n",
    "plt.hist(list2, bins=20)\n",
    "plt.title(\"Shapiro p-value tumor\")\n",
    "plt.axvline(0.05, color=\"red\", ls=\"dashed\", alpha=0.2)\n",
    "plt.show()"
   ]
  },
  {
   "cell_type": "markdown",
   "metadata": {},
   "source": [
    "Видно, что четверть всех распределений проходят тест Шапиро, а остальные распределены по p-value достаточно равномерно. В принципе, можно посчитать, что всё более или менее нормально и дальше использовать соотв. тесты"
   ]
  },
  {
   "cell_type": "code",
   "execution_count": 217,
   "metadata": {},
   "outputs": [],
   "source": [
    "#Welch's t-test (~Student's for different variances)\n",
    "def test_custom(a, b):\n",
    "    #your code here\n",
    "    a1 = float(a.size)\n",
    "    b1 = float(b.size)\n",
    "    tt = (a.mean() - b.mean())/(np.sqrt(a.var()/a1 + b.var()/b1))\n",
    "    dof = (a.var()/a1 + b.var()/b1)**2 / (float((a.var()/a1)**2 / float(a1-1) + (b.var()/b1)**2 / float(b1-1)))\n",
    "    pval = 2 * (1 - scp.stats.t.cdf(abs(tt), dof))\n",
    "    return (tt, pval)"
   ]
  },
  {
   "cell_type": "markdown",
   "metadata": {},
   "source": [
    "Т.к. знак Т-теста совпадает с выражением того, что в среднем есть овер или андерэкспрессия, то будем сразу отсекать в выборку те p-value, где в среднем в опухоли больше экспрессируется \n",
    "\n",
    "(иначе даже при значимом отличии получим недоэкспрессию в любом случае)\n",
    "\n",
    "Это, конечно, является некоторой преобработкой данных, но ведь иначе замусоривание данных недоэкспрессируемыми генами будет вести к уменьшению кол-ва значимых оверэкспрессий, что тоже нехорошо\n",
    "\n",
    "Плюс во встроенные мультитесты надо на вход подавать список p-values, то есть придется производить отбор уже скорректированных p-values, помня о том, была ли до этого овер- или андер-экспрессия. И это будет \"выкидыванием\" данных, где мы заведомо знаем, что нет оверэкспрессии, но которые при этом использовались для получения полезных\n",
    "\n",
    "(было бы более понятно, если спрашивали бы просто кол-во генов со статистически значимыми различиями в экспрессии)"
   ]
  },
  {
   "cell_type": "code",
   "execution_count": 213,
   "metadata": {},
   "outputs": [],
   "source": [
    "def bonferroni_custom(p_vals, overunder):\n",
    "    #your code here\n",
    "    accepted_over = 0\n",
    "    for ind, p_value in enumerate(p_vals):\n",
    "        if p_value*len(p_vals) < alpha:\n",
    "             accepted_over += 1\n",
    "    return accepted_over"
   ]
  },
  {
   "cell_type": "code",
   "execution_count": 214,
   "metadata": {},
   "outputs": [
    {
     "name": "stdout",
     "output_type": "stream",
     "text": [
      "Different expressions using rough alpha=0.05: 1626\n",
      "Overexpressions  50\n"
     ]
    }
   ],
   "source": [
    "#your code here\n",
    "alpha = 0.05\n",
    "overunder = []\n",
    "p_vals_custom = []\n",
    "dif_expr = 0\n",
    "for gene in list(expr_data):\n",
    "    if gene != \"Map\":\n",
    "        res = test_custom(expr_data[gene][expr_data[\"Map\"]==1], expr_data[gene][expr_data[\"Map\"]==-1])\n",
    "        if res[1] < 0.05:\n",
    "            dif_expr += 1\n",
    "        overunder.append(res[0] < 0)\n",
    "        #test for over- and not underexpression\n",
    "        if res[0] < 0:\n",
    "            p_vals_custom.append(res[1])\n",
    "\n",
    "accepted = bonferroni_custom(p_vals_custom, overunder)\n",
    "\n",
    "print(\"Different expressions using rough alpha=0.05:\", dif_expr)\n",
    "print(\"Overexpressions \", accepted)"
   ]
  },
  {
   "cell_type": "markdown",
   "metadata": {},
   "source": [
    "Сравним наши результаты с полученными с использованием встроенного пакета"
   ]
  },
  {
   "cell_type": "code",
   "execution_count": 215,
   "metadata": {},
   "outputs": [],
   "source": [
    "def my_t_check(a, b):\n",
    "    p = scp.stats.ttest_ind(a, b, axis=0, equal_var=False)[1]\n",
    "    return p"
   ]
  },
  {
   "cell_type": "markdown",
   "metadata": {},
   "source": [
    "Непоправленные p-values"
   ]
  },
  {
   "cell_type": "code",
   "execution_count": 216,
   "metadata": {},
   "outputs": [],
   "source": [
    "#your code here\n",
    "p_vals_all = []\n",
    "p_vals = []\n",
    "n_of_overexpr = 0\n",
    "rough_diff = 0\n",
    "for gene in list(expr_data):\n",
    "    if gene != \"Map\":\n",
    "        p_value = my_t_check(expr_data[gene][expr_data[\"Map\"]==1], expr_data[gene][expr_data[\"Map\"]==-1])\n",
    "        #check that it is over- and not underexpression (there is ~3600 under and ~3400 over)\n",
    "        if (expr_data[gene][expr_data[\"Map\"]==1].mean() < expr_data[gene][expr_data[\"Map\"]==-1].mean()):\n",
    "            p_vals.append(p_value)\n",
    "            n_of_overexpr += 1\n",
    "        if p_value < 0.05:\n",
    "            rough_diff += 1\n",
    "        p_vals_all.append(p_value)"
   ]
  },
  {
   "cell_type": "code",
   "execution_count": 218,
   "metadata": {},
   "outputs": [
    {
     "name": "stdout",
     "output_type": "stream",
     "text": [
      "Overall genes 6603\n",
      "\"Rough different\" expressions  1626\n",
      "\"Rough\" overexpressions, maybe not significant  3425\n"
     ]
    }
   ],
   "source": [
    "print(\"Overall genes\", len(p_vals_all))\n",
    "print(\"\\\"Rough different\\\" expressions \", rough_diff)\n",
    "print(\"\\\"Rough\\\" overexpressions, maybe not significant \", n_of_overexpr)"
   ]
  },
  {
   "cell_type": "markdown",
   "metadata": {},
   "source": [
    "Проверим разницу между нашими и полученными встроенным пакетом p-values"
   ]
  },
  {
   "cell_type": "code",
   "execution_count": 228,
   "metadata": {},
   "outputs": [],
   "source": [
    "diff_p = []\n",
    "for i in range(len(p_vals)):\n",
    "    #print(p_vals[i] - p_vals_custom[i])\n",
    "    diff_p.append(p_vals[i] - p_vals_custom[i])"
   ]
  },
  {
   "cell_type": "code",
   "execution_count": 229,
   "metadata": {},
   "outputs": [
    {
     "name": "stdout",
     "output_type": "stream",
     "text": [
      "4.440892098500626e-16\n"
     ]
    }
   ],
   "source": [
    "print(max(diff_p))"
   ]
  },
  {
   "cell_type": "markdown",
   "metadata": {},
   "source": [
    "То есть т-значения совпадают с \"пакетными\""
   ]
  },
  {
   "cell_type": "markdown",
   "metadata": {},
   "source": [
    "Постройте гистограмму полученных значений p-value."
   ]
  },
  {
   "cell_type": "code",
   "execution_count": 221,
   "metadata": {},
   "outputs": [
    {
     "data": {
      "text/plain": [
       "<matplotlib.lines.Line2D at 0x7f07de8f4eb8>"
      ]
     },
     "execution_count": 221,
     "metadata": {},
     "output_type": "execute_result"
    },
    {
     "data": {
      "image/png": "[encoded data removed]",
      "text/plain": [
       "<Figure size 576x360 with 1 Axes>"
      ]
     },
     "metadata": {
      "needs_background": "light"
     },
     "output_type": "display_data"
    }
   ],
   "source": [
    "plt.figure(figsize=(8, 5))\n",
    "plt.hist(p_vals)\n",
    "plt.xlabel(\"p-values, uncorrected\")\n",
    "plt.ylabel(\"count\")\n",
    "plt.axvline(0.05, color=\"red\", ls=\"dashed\", alpha=0.2)"
   ]
  },
  {
   "cell_type": "code",
   "execution_count": 222,
   "metadata": {},
   "outputs": [],
   "source": [
    "from statsmodels.stats import multitest\n",
    "p_vals_adjusted = multitest.multipletests(p_vals, method='bonferroni')[1] #your code here"
   ]
  },
  {
   "cell_type": "code",
   "execution_count": 223,
   "metadata": {},
   "outputs": [
    {
     "data": {
      "text/plain": [
       "<matplotlib.lines.Line2D at 0x7f07de8c4588>"
      ]
     },
     "execution_count": 223,
     "metadata": {},
     "output_type": "execute_result"
    },
    {
     "data": {
      "image/png": "[encoded data removed]",
      "text/plain": [
       "<Figure size 576x360 with 1 Axes>"
      ]
     },
     "metadata": {
      "needs_background": "light"
     },
     "output_type": "display_data"
    }
   ],
   "source": [
    "plt.figure(figsize=(8, 5))\n",
    "plt.hist(p_vals_adjusted)\n",
    "plt.xlabel(\"p-values, adjusted\")\n",
    "plt.ylabel(\"count\")\n",
    "plt.axvline(0.05, color=\"red\", ls=\"dashed\", alpha=0.2)"
   ]
  },
  {
   "cell_type": "markdown",
   "metadata": {},
   "source": [
    "Выведем процент (и абсолютное число) генов для которых можно отвергнуть нулевую гипотезу:"
   ]
  },
  {
   "cell_type": "code",
   "execution_count": 224,
   "metadata": {},
   "outputs": [
    {
     "name": "stdout",
     "output_type": "stream",
     "text": [
      "Bonferroni\n",
      "50 genes\n",
      "1.4598540145985401 % of not underexpressed,  0.7572315614114796 % of all genes\n"
     ]
    }
   ],
   "source": [
    "#your code here\n",
    "a = p_vals_adjusted < 0.05\n",
    "print(\"Bonferroni\")\n",
    "print(sum(a), \"genes\")\n",
    "print(sum(a)/len(a)*100, \"% of not underexpressed, \", sum(a)/len(p_vals_all)*100, \"% of all genes\")"
   ]
  },
  {
   "cell_type": "markdown",
   "metadata": {},
   "source": [
    "Получились одинаковые результаты (50 генов из 6604 всего) при использовании соответственно встроенного метода и самописного"
   ]
  },
  {
   "cell_type": "markdown",
   "metadata": {},
   "source": [
    "Проверьте другие известные вам поправки на множественное тестирование из пакета `scipy`. Объясните, какая подходит лучше всего"
   ]
  },
  {
   "cell_type": "code",
   "execution_count": 225,
   "metadata": {},
   "outputs": [
    {
     "name": "stdout",
     "output_type": "stream",
     "text": [
      "Holm\n",
      "50 genes\n",
      "1.4598540145985401 % of not underexpressed,  0.7572315614114796 % of all genes\n"
     ]
    }
   ],
   "source": [
    "#your code here\n",
    "p_vals_adjusted_1 = multitest.multipletests(p_vals, method='holm')[1]\n",
    "a = p_vals_adjusted_1 < 0.05\n",
    "print(\"Holm\")\n",
    "print(sum(a), \"genes\")\n",
    "print(sum(a)/len(a)*100, \"% of not underexpressed, \", sum(a)/len(p_vals_all)*100, \"% of all genes\")"
   ]
  },
  {
   "cell_type": "code",
   "execution_count": 226,
   "metadata": {},
   "outputs": [
    {
     "name": "stdout",
     "output_type": "stream",
     "text": [
      "Holm-Sidak\n",
      "51 genes\n",
      "1.489051094890511 % of not underexpressed,  0.7723761926397091 % of all genes\n"
     ]
    }
   ],
   "source": [
    "p_vals_adjusted_2 = multitest.multipletests(p_vals, method='holm-sidak')[1]\n",
    "a = p_vals_adjusted_2 < 0.05\n",
    "print(\"Holm-Sidak\")\n",
    "print(sum(a), \"genes\")\n",
    "print(sum(a)/len(a)*100, \"% of not underexpressed, \", sum(a)/len(p_vals_all)*100, \"% of all genes\")"
   ]
  },
  {
   "cell_type": "code",
   "execution_count": 119,
   "metadata": {},
   "outputs": [
    {
     "name": "stdout",
     "output_type": "stream",
     "text": [
      "Simes-Hochberg\n",
      "50 genes\n",
      "1.4598540145985401 % of not underexpressed,  0.7571168988491823 % of all genes\n"
     ]
    }
   ],
   "source": [
    "p_vals_adjusted_3 = multitest.multipletests(p_vals, method='simes-hochberg')[1]\n",
    "a = p_vals_adjusted_3 < 0.05\n",
    "print(\"Simes-Hochberg\")\n",
    "print(sum(a), \"genes\")\n",
    "print(sum(a)/len(a)*100, \"% of not underexpressed, \", sum(a)/len(p_vals_all)*100, \"% of all genes\")"
   ]
  },
  {
   "cell_type": "code",
   "execution_count": 159,
   "metadata": {},
   "outputs": [
    {
     "name": "stdout",
     "output_type": "stream",
     "text": [
      "Hommel\n",
      "51 genes\n",
      "1.489051094890511 % of not underexpressed,  0.7722592368261659 % of all genes\n"
     ]
    }
   ],
   "source": [
    "p_vals_adjusted_4 = multitest.multipletests(p_vals, method='hommel')[1]\n",
    "a = p_vals_adjusted_4 < 0.05\n",
    "print(\"Hommel\")\n",
    "print(sum(a), \"genes\")\n",
    "print(sum(a)/len(a)*100, \"% of not underexpressed, \", sum(a)/len(p_vals_all)*100, \"% of all genes\")"
   ]
  },
  {
   "cell_type": "markdown",
   "metadata": {},
   "source": [
    "Встроенные тесты дают практически одинаковые результаты. Консервативный метод Бонферрони, возможно, наиболее хороший, если учесть, что остальные (вроде как) сильно полагаются на независимость выборок в сравнении, а для опухоли это может быть не так, т.к. там может быть много сильно экспрессируемых генов, если то опухоль. То есть появляется зависимость\n",
    "\n",
    "Хотя, как видно из рез-татов, относительно немного генов можно назвать оверэкспрессируемыми,то есть в целом выборку можно считать независимой, так что, вероятно, и все остальные тесты работают (что подтверждается в том числе одинаковостью рез-татов)"
   ]
  },
  {
   "cell_type": "markdown",
   "metadata": {},
   "source": [
    "## 4. Немного поближе взглянем на результаты"
   ]
  },
  {
   "cell_type": "markdown",
   "metadata": {},
   "source": [
    "Посмотрим, какие же гены оверэкспрессированы."
   ]
  },
  {
   "cell_type": "code",
   "execution_count": 101,
   "metadata": {},
   "outputs": [
    {
     "name": "stdout",
     "output_type": "stream",
     "text": [
      "D13292: Human mRNA for ryudocan core protein\n",
      "D16350: \"Human SA mRNA for SA gene product, complete cds\"\n",
      "D16362: \"Human DNA for plasma glutathione peroxidase, exon 3, 4 and 5\"\n",
      "D26135: \"Human mRNA for diacylglycerol kinase gamma, complete cds\"\n",
      "D42039: \"Human mRNA for KIAA0081 gene, partial cds\"\n",
      "H03945: yj44c02.s1 Homo sapiens cDNA clone 151586 3'\n",
      "H04235: yj46b05.s1 Homo sapiens cDNA clone 151761 3' similar to gb:J05582 MUCIN 1 PRECURSOR (HUMAN);\n",
      "H08056: yl86a10.s1 Homo sapiens cDNA clone 44916 3'\n",
      "H17124: ym42e02.s1 Homo sapiens cDNA clone 50865 3'\n",
      "H44007: yp18e03.s1 Homo sapiens cDNA clone 187804 3'\n",
      "H50623: \"yp07f12.s1 Homo sapiens cDNA clone 186767 3' similar to gb:M16941 HLA CLASS II HISTOCOMPATIBILITY ANTIGEN, DR-7 BETA CHAIN (HUMAN);\"\n",
      "H51221: yo33h06.s1 Homo sapiens cDNA clone 179771 3'\n",
      "H54446: yq91f03.s1 Homo sapiens cDNA clone 203165 3' similar to gb:M63175 AUTOCRINE MOTILITY FACTOR RECEPTOR PRECURSOR (HUMAN);\n",
      "H60597: yr41h04.s1 Homo sapiens cDNA clone 207895 3' similar to contains Alu repetitive element;\n",
      "H67551: yu68f11.s1 Homo sapiens cDNA clone 238989 3'\n",
      "H69843: yr88a07.s1 Homo sapiens cDNA clone 212340 3' similar to gb:M80482 SUBTILISIN-LIKE PROTEASE PACE4 PRECURSOR (HUMAN);\n",
      "H72060: yr99d04.s1 Homo sapiens cDNA clone 213415 3' similar to gb:M64982_cds2 FIBRINOGEN ALPHA CHAIN PRECURSOR (HUMAN);\n",
      "H87135: yw16f12.s1 Homo sapiens cDNA clone 252431 3'\n",
      "H87184: yw15f05.s1 Homo sapiens cDNA clone 252321 3'\n",
      "H91826: ys81a07.s1 Homo sapiens cDNA clone 221172 3' similar to gb:M14676 PROTO-ONCOGENE TYROSINE-PROTEIN KINASE FYN (HUMAN);\n",
      "J03507: \"Human complement protein component C7 mRNA, complete cds\"\n",
      "J04058: \"Human electron transfer flavoprotein alpha-subunit mRNA, complete cds\"\n",
      "L01131: \"Human decorin (DCN) gene, exon 8, complete cds\"\n",
      "L20431: \"Homo sapiens Huntington disease-associated protein (HD) mRNA, complete cds\"\n",
      "L34155: \"Homo sapiens laminin-related protein (LamA3) mRNA, complete cds\"\n",
      "L38734: \"Homo sapiens hepatoma transmembrane kinase ligand (HTK ligand) mRNA, complete cds\"\n",
      "L47574: \"Homo sapiens mismatch repair protein (MSH2) mRNA, with a Q288stop mutation\"\n",
      "M11166: \"Human prepro-8-arginine-vasopressin-neurophysin II gene, complete cds\"\n",
      "M13241: \"Human N-myc gene, exons 2 and 3\"\n",
      "M17779: \"Human intestinal apolipoprotein B-48 mRNA, 3' end\"\n",
      "M19156: \"Human acidic keratin-10 mRNA, complete cds\"\n",
      "M19169: \"Human cysteine-proteinase inhibitor (CST1) gene, complete cds\"\n",
      "M21574: \"Human platelet-derived growth factor receptor alpha (PDGFRA) mRNA,  complete cds\"\n",
      "M22324: \"Human aminopeptidase N/CD13 mRNA encoding aminopeptidase N, complete cds\"\n",
      "M34181: \"Human testis-specific cAMP-dependent protein kinase catalytic subunit (C-beta isoform) mRNA, complete cds\"\n",
      "M36200: \"Human synaptobrevin 1 (SYB1) gene, exon 5\"\n",
      "M57423: \"Homo sapiens phosphoribosylpyrophosphate synthetase subunit III mRNA, 3' end\"\n",
      "M57710: \"Human IgE-binding protein (epsilon-BP) mRNA, complete cds\"\n",
      "M59371: \"Human protein tyrosine kinase mRNA, complete cds\"\n",
      "M60278: \"Human heparin-binding EGF-like growth factor mRNA, complete cds\"\n",
      "M82967: \"Human sperm protein 10 mRNA, complete cds\"\n",
      "M86699: \"Human kinase (TTK) mRNA, complete cds\"\n",
      "M94630: \"Homo sapiens hnRNP-C like protein mRNA, complete cds\"\n",
      "M99701: \"Homo sapiens (pp21) mRNA, complete cds\"\n",
      "R02151: ye87b07.s1 Homo sapiens cDNA clone 124693 3' similar to SP:S40468 S40468 PROTEASOME SUBUNIT RC10-II - ;\n",
      "R02155: ye87c03.s1 Homo sapiens cDNA clone 124708 3'\n",
      "R05923: \"ye89b08.s1 Homo sapiens cDNA clone 124887 3' similar to gb:M58458 40S RIBOSOMAL PROTEIN S4, X ISOFORM (HUMAN);\"\n",
      "R11069: yf39h03.s1 Homo sapiens cDNA clone 129269 3' similar to contains Alu repetitive element;contains MER6 repetitive element ;\n",
      "R28281: yh66e02.s1 Homo sapiens cDNA clone 134714 3' similar to contains Alu repetitive element;\n",
      "R41765: yg11g06.s1 Homo sapiens cDNA clone 31937 3'\n"
     ]
    }
   ],
   "source": [
    "for name, function in zip(expr_data.columns[np.where([p_vals_adjusted < 0.05])[1]], \n",
    "                          descr[np.where([p_vals_adjusted < 0.05])[1]]):\n",
    "    print(name + \": \" + function)"
   ]
  },
  {
   "cell_type": "markdown",
   "metadata": {},
   "source": [
    "Визуализируем различия в экспресии 20 самых оверэкспрессированных генов с помощью функции `barplot` из библиотеки `seaborn`."
   ]
  },
  {
   "cell_type": "code",
   "execution_count": 102,
   "metadata": {},
   "outputs": [],
   "source": [
    "top_20_genes = expr_data.columns[np.argsort(p_vals_adjusted, )[:10]]"
   ]
  },
  {
   "cell_type": "code",
   "execution_count": 103,
   "metadata": {},
   "outputs": [],
   "source": [
    "top_20_genes_expr = expr_data.loc[:,top_20_genes]"
   ]
  },
  {
   "cell_type": "code",
   "execution_count": 104,
   "metadata": {},
   "outputs": [
    {
     "data": {
      "text/plain": [
       "<seaborn.axisgrid.PairGrid at 0x7f07ec3afe48>"
      ]
     },
     "execution_count": 104,
     "metadata": {},
     "output_type": "execute_result"
    },
    {
     "data": {
      "image/png": "[encoded data removed]",
      "text/plain": [
       "<Figure size 1800x1800 with 110 Axes>"
      ]
     },
     "metadata": {
      "needs_background": "light"
     },
     "output_type": "display_data"
    }
   ],
   "source": [
    "sns.pairplot(top_20_genes_expr)"
   ]
  }
 ],
 "metadata": {
  "kernelspec": {
   "display_name": "Python 3",
   "language": "python",
   "name": "python3"
  },
  "language_info": {
   "codemirror_mode": {
    "name": "ipython",
    "version": 3
   },
   "file_extension": ".py",
   "mimetype": "text/x-python",
   "name": "python",
   "nbconvert_exporter": "python",
   "pygments_lexer": "ipython3",
   "version": "3.7.3"
  }
 },
 "nbformat": 4,
 "nbformat_minor": 2
}
